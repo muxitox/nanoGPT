{
 "nbformat": 4,
 "nbformat_minor": 0,
 "metadata": {
  "colab": {
   "provenance": []
  },
  "kernelspec": {
   "name": "python3",
   "display_name": "Python 3 (ipykernel)",
   "language": "python"
  },
  "language_info": {
   "name": "python"
  }
 },
 "cells": [
  {
   "cell_type": "markdown",
   "source": [
    "### Clone repo to access GPT2 weights"
   ],
   "metadata": {
    "id": "j8S_lrHJBr8F"
   }
  },
  {
   "cell_type": "code",
   "source": [
    "! git clone https://github.com/muxitox/nanoGPT.git"
   ],
   "metadata": {
    "colab": {
     "base_uri": "https://localhost:8080/"
    },
    "id": "C763IoZMBh3S",
    "outputId": "9c5846e7-48f9-4be2-9f8f-7739fe179661",
    "ExecuteTime": {
     "end_time": "2025-09-17T13:44:57.023093Z",
     "start_time": "2025-09-17T13:44:56.676376Z"
    }
   },
   "outputs": [
    {
     "name": "stdout",
     "output_type": "stream",
     "text": [
      "fatal: destination path 'nanoGPT' already exists and is not an empty directory.\r\n"
     ]
    }
   ],
   "execution_count": 20
  },
  {
   "cell_type": "code",
   "source": [
    "%cd nanoGPT"
   ],
   "metadata": {
    "colab": {
     "base_uri": "https://localhost:8080/"
    },
    "id": "vNjByqN8Bl2V",
    "outputId": "c080dbce-e7c5-4271-ffa6-8936449504de",
    "ExecuteTime": {
     "end_time": "2025-09-17T13:44:57.057084Z",
     "start_time": "2025-09-17T13:44:57.053526Z"
    }
   },
   "outputs": [
    {
     "name": "stdout",
     "output_type": "stream",
     "text": [
      "/home/apoc/Documents/projects/nanoGPT/simple_model/nanoGPT/nanoGPT\n"
     ]
    },
    {
     "name": "stderr",
     "output_type": "stream",
     "text": [
      "/home/apoc/Documents/projects/nanoGPT/.venv/lib/python3.10/site-packages/IPython/core/magics/osm.py:417: UserWarning: This is now an optional IPython functionality, setting dhist requires you to install the `pickleshare` library.\n",
      "  self.shell.db['dhist'] = compress_dhist(dhist)[-100:]\n"
     ]
    }
   ],
   "execution_count": 21
  },
  {
   "cell_type": "markdown",
   "source": [
    "### Imports"
   ],
   "metadata": {
    "id": "EWI4YoqRB4KF"
   }
  },
  {
   "cell_type": "code",
   "source": [
    "import math\n",
    "import inspect\n",
    "from dataclasses import dataclass\n",
    "\n",
    "import torch\n",
    "import torch.nn as nn\n",
    "from torch.nn import functional as F\n",
    "from model import GPTConfig, GPT\n",
    "\n",
    "import matplotlib.pyplot as plt\n",
    "import time"
   ],
   "metadata": {
    "id": "Jht17kIpBlCa",
    "ExecuteTime": {
     "end_time": "2025-09-17T13:44:57.126198Z",
     "start_time": "2025-09-17T13:44:57.122841Z"
    }
   },
   "outputs": [],
   "execution_count": 22
  },
  {
   "cell_type": "code",
   "source": [
    "!pip install ipdb\n",
    "import ipdb"
   ],
   "metadata": {
    "id": "Pu-dEJ48mbcC",
    "colab": {
     "base_uri": "https://localhost:8080/"
    },
    "outputId": "3c46b883-a8d9-4cfe-c227-ea456c80480a",
    "ExecuteTime": {
     "end_time": "2025-09-17T13:44:59.102206Z",
     "start_time": "2025-09-17T13:44:57.189471Z"
    }
   },
   "outputs": [
    {
     "name": "stdout",
     "output_type": "stream",
     "text": [
      "Requirement already satisfied: ipdb in /home/apoc/Documents/projects/nanoGPT/.venv/lib/python3.10/site-packages (0.13.13)\r\n",
      "Requirement already satisfied: ipython>=7.31.1 in /home/apoc/Documents/projects/nanoGPT/.venv/lib/python3.10/site-packages (from ipdb) (8.37.0)\r\n",
      "Requirement already satisfied: tomli in /home/apoc/Documents/projects/nanoGPT/.venv/lib/python3.10/site-packages (from ipdb) (2.2.1)\r\n",
      "Requirement already satisfied: decorator in /home/apoc/Documents/projects/nanoGPT/.venv/lib/python3.10/site-packages (from ipdb) (5.2.1)\r\n",
      "Requirement already satisfied: exceptiongroup in /home/apoc/Documents/projects/nanoGPT/.venv/lib/python3.10/site-packages (from ipython>=7.31.1->ipdb) (1.3.0)\r\n",
      "Requirement already satisfied: jedi>=0.16 in /home/apoc/Documents/projects/nanoGPT/.venv/lib/python3.10/site-packages (from ipython>=7.31.1->ipdb) (0.19.2)\r\n",
      "Requirement already satisfied: matplotlib-inline in /home/apoc/Documents/projects/nanoGPT/.venv/lib/python3.10/site-packages (from ipython>=7.31.1->ipdb) (0.1.7)\r\n",
      "Requirement already satisfied: pexpect>4.3 in /home/apoc/Documents/projects/nanoGPT/.venv/lib/python3.10/site-packages (from ipython>=7.31.1->ipdb) (4.9.0)\r\n",
      "Requirement already satisfied: prompt_toolkit<3.1.0,>=3.0.41 in /home/apoc/Documents/projects/nanoGPT/.venv/lib/python3.10/site-packages (from ipython>=7.31.1->ipdb) (3.0.51)\r\n",
      "Requirement already satisfied: pygments>=2.4.0 in /home/apoc/Documents/projects/nanoGPT/.venv/lib/python3.10/site-packages (from ipython>=7.31.1->ipdb) (2.19.2)\r\n",
      "Requirement already satisfied: stack_data in /home/apoc/Documents/projects/nanoGPT/.venv/lib/python3.10/site-packages (from ipython>=7.31.1->ipdb) (0.6.3)\r\n",
      "Requirement already satisfied: traitlets>=5.13.0 in /home/apoc/Documents/projects/nanoGPT/.venv/lib/python3.10/site-packages (from ipython>=7.31.1->ipdb) (5.14.3)\r\n",
      "Requirement already satisfied: typing_extensions>=4.6 in /home/apoc/Documents/projects/nanoGPT/.venv/lib/python3.10/site-packages (from ipython>=7.31.1->ipdb) (4.12.2)\r\n",
      "Requirement already satisfied: parso<0.9.0,>=0.8.4 in /home/apoc/Documents/projects/nanoGPT/.venv/lib/python3.10/site-packages (from jedi>=0.16->ipython>=7.31.1->ipdb) (0.8.4)\r\n",
      "Requirement already satisfied: ptyprocess>=0.5 in /home/apoc/Documents/projects/nanoGPT/.venv/lib/python3.10/site-packages (from pexpect>4.3->ipython>=7.31.1->ipdb) (0.7.0)\r\n",
      "Requirement already satisfied: wcwidth in /home/apoc/Documents/projects/nanoGPT/.venv/lib/python3.10/site-packages (from prompt_toolkit<3.1.0,>=3.0.41->ipython>=7.31.1->ipdb) (0.2.13)\r\n",
      "Requirement already satisfied: executing>=1.2.0 in /home/apoc/Documents/projects/nanoGPT/.venv/lib/python3.10/site-packages (from stack_data->ipython>=7.31.1->ipdb) (2.2.0)\r\n",
      "Requirement already satisfied: asttokens>=2.1.0 in /home/apoc/Documents/projects/nanoGPT/.venv/lib/python3.10/site-packages (from stack_data->ipython>=7.31.1->ipdb) (3.0.0)\r\n",
      "Requirement already satisfied: pure-eval in /home/apoc/Documents/projects/nanoGPT/.venv/lib/python3.10/site-packages (from stack_data->ipython>=7.31.1->ipdb) (0.2.3)\r\n",
      "\r\n",
      "\u001B[1m[\u001B[0m\u001B[34;49mnotice\u001B[0m\u001B[1;39;49m]\u001B[0m\u001B[39;49m A new release of pip is available: \u001B[0m\u001B[31;49m23.2.1\u001B[0m\u001B[39;49m -> \u001B[0m\u001B[32;49m25.2\u001B[0m\r\n",
      "\u001B[1m[\u001B[0m\u001B[34;49mnotice\u001B[0m\u001B[1;39;49m]\u001B[0m\u001B[39;49m To update, run: \u001B[0m\u001B[32;49mpip install --upgrade pip\u001B[0m\r\n"
     ]
    }
   ],
   "execution_count": 23
  },
  {
   "cell_type": "markdown",
   "source": [
    "### Utils"
   ],
   "metadata": {
    "id": "D5YTPbafb_QJ"
   }
  },
  {
   "cell_type": "code",
   "source": [
    "def bitfield(n, size):  # Transform positive integer into bit array\n",
    "    x = [int(x) for x in bin(int(n))[2:]]\n",
    "    x = [0] * (size - len(x)) + x\n",
    "    return torch.array(x)"
   ],
   "metadata": {
    "id": "KXuQ0Cz4cAmf",
    "ExecuteTime": {
     "end_time": "2025-09-17T13:44:59.163519Z",
     "start_time": "2025-09-17T13:44:59.159693Z"
    }
   },
   "outputs": [],
   "execution_count": 24
  },
  {
   "metadata": {
    "ExecuteTime": {
     "end_time": "2025-09-17T13:44:59.220423Z",
     "start_time": "2025-09-17T13:44:59.217013Z"
    }
   },
   "cell_type": "code",
   "source": [
    "def qr_invert(A):\n",
    "\n",
    "    Q, R = torch.linalg.qr(A)        # full QR for square A\n",
    "\n",
    "    B = Q.T\n",
    "\n",
    "    A_inv = torch.linalg.solve_triangular(R, B, upper=True)\n",
    "\n",
    "    return A_inv"
   ],
   "outputs": [],
   "execution_count": 25
  },
  {
   "metadata": {},
   "cell_type": "markdown",
   "source": "#### Plotting"
  },
  {
   "metadata": {
    "ExecuteTime": {
     "end_time": "2025-09-17T13:44:59.281190Z",
     "start_time": "2025-09-17T13:44:59.276320Z"
    }
   },
   "cell_type": "code",
   "source": [
    "def return_subplot(num_feats):\n",
    "    if num_feats == 1:\n",
    "        fig, ax = plt.subplots(1, 1)\n",
    "    elif num_feats == 2:\n",
    "        fig, ax = plt.subplots(2, 1)\n",
    "    elif num_feats == 3:\n",
    "        fig, ax = plt.subplots(3, 1)\n",
    "    else:\n",
    "        fig, ax = plt.subplots(min(4, math.floor((num_feats)/2)), 2)\n",
    "\n",
    "    return fig, ax"
   ],
   "outputs": [],
   "execution_count": 26
  },
  {
   "metadata": {
    "ExecuteTime": {
     "end_time": "2025-09-17T13:44:59.345936Z",
     "start_time": "2025-09-17T13:44:59.339159Z"
    }
   },
   "cell_type": "code",
   "source": [
    "def subplot_trajectories(stats, label, line, title, domain_label, random_feats=False, max_feats_show=4):\n",
    "\n",
    "    T, num_feats = stats[0].shape\n",
    "    num_feats_show = min(num_feats, max_feats_show)\n",
    "\n",
    "    fig, ax = return_subplot(num_feats_show)\n",
    "    ax = ax.ravel()\n",
    "\n",
    "    if max_feats_show > 4 and random_feats:\n",
    "        feats = torch.randperm(stats[0].shape[1])[:num_feats_show]\n",
    "    else:\n",
    "        feats = torch.arange(num_feats_show)\n",
    "\n",
    "    for i in range(0, num_feats_show):\n",
    "        for s in range(len(stats)):\n",
    "            ax[i].plot(stats[s][:,feats[i]], line[s], label=label[s])\n",
    "\n",
    "            ax[i].set_ylabel(f\"${domain_label}_{{{feats[i]}}}$\")\n",
    "            ax[i].set_xlabel(f\"$t$\")\n",
    "\n",
    "        if i==num_feats_show - 1:\n",
    "            ax[i].legend()\n",
    "    plt.suptitle(title)"
   ],
   "outputs": [],
   "execution_count": 27
  },
  {
   "cell_type": "markdown",
   "source": [
    "### Forward functions for the network"
   ],
   "metadata": {
    "id": "RvRUL7SMCNGh"
   }
  },
  {
   "cell_type": "code",
   "source": [
    "def forward(x_vocab_next, x_prev, W_k, W_q, beta=1.0):\n",
    "    # apply softmax to get probabilities\n",
    "    k_vocab_next = x_vocab_next @ W_k.T\n",
    "    q_prev = x_prev @ W_q.T\n",
    "    Wk_Wq_x_prev = W_k.T @ q_prev  # Compute this also for comparison\n",
    "\n",
    "    probs_next = F.softmax(beta * k_vocab_next @ q_prev, dim=0)\n",
    "\n",
    "    # sample from the distribution\n",
    "    idx_next = torch.multinomial(probs_next, num_samples=1)\n",
    "\n",
    "    tok_next = x_vocab_next[idx_next][0]\n",
    "\n",
    "    return tok_next, idx_next, Wk_Wq_x_prev, q_prev, probs_next\n",
    "\n",
    "# Same but with q instead of x_t and W_q\n",
    "def forward_q(x_vocab_next, q_prev, W_k, beta=1.0):\n",
    "    # apply softmax to get probabilities\n",
    "    k_vocab_next = x_vocab_next @ W_k.T\n",
    "\n",
    "    probs_next = F.softmax(beta * k_vocab_next @ q_prev, dim=0)\n",
    "\n",
    "    # sample from the distribution\n",
    "    idx_next = torch.multinomial(probs_next, num_samples=1)\n",
    "\n",
    "    tok_next = x_vocab_next[idx_next][0]\n",
    "\n",
    "    return tok_next, idx_next, probs_next"
   ],
   "metadata": {
    "id": "3Gr6CILJB70N",
    "ExecuteTime": {
     "end_time": "2025-09-17T13:44:59.404284Z",
     "start_time": "2025-09-17T13:44:59.399344Z"
    }
   },
   "outputs": [],
   "execution_count": 28
  },
  {
   "cell_type": "code",
   "source": [
    "def forward_mf(x_vocab_next, mu_k_vocab, sigma_k_vocab, mu_q_prev, sigma_q_prev, W_k, W_q, beta):\n",
    "\n",
    "    # Compute k and mu_tilde\n",
    "    k_vocab_next = beta * x_vocab_next @ W_k.T\n",
    "    sigma_q_prev_inv = qr_invert(sigma_q_prev)\n",
    "    # $ \\bm {\\tilde{\\mu}} =   \\bm \\mu^k  - (\\beta \\bm \\Sigma^{q} )^{-1} \\bm \\mu_q  $\n",
    "    mu_tilde = beta * mu_k_vocab - mu_q_prev @ sigma_q_prev_inv\n",
    "    k_centered_tilde = k_vocab_next - mu_tilde\n",
    "\n",
    "    # Compute C\n",
    "    C = sigma_q_prev_inv + beta**2 * sigma_k_vocab\n",
    "    C_inv = qr_invert(C)\n",
    "    p_x_next = torch.einsum('ni,ij,nj->n', k_centered_tilde, C_inv, k_centered_tilde) / 2\n",
    "\n",
    "    p_x_next = F.softmax(p_x_next, dim=0)\n",
    "\n",
    "    # Get the mean of x\n",
    "    mu_x_next = torch.sum(p_x_next[:, None] * x_vocab_next, dim=0)\n",
    "\n",
    "    mu_k_next = mu_x_next @ W_k.T\n",
    "    mu_q_next = mu_x_next @ W_q.T\n",
    "\n",
    "    q_next = x_vocab_next @ W_q.T\n",
    "    q_centered_next = q_next - mu_q_next\n",
    "    sigma_q_next = torch.einsum('n,nm,nk->mk', p_x_next, q_centered_next, q_centered_next)\n",
    "\n",
    "    return mu_k_next, mu_q_next, sigma_q_next, p_x_next"
   ],
   "metadata": {
    "id": "J2tNhRhICAp_",
    "ExecuteTime": {
     "end_time": "2025-09-17T13:44:59.467831Z",
     "start_time": "2025-09-17T13:44:59.461986Z"
    }
   },
   "outputs": [],
   "execution_count": 29
  },
  {
   "metadata": {
    "ExecuteTime": {
     "end_time": "2025-09-17T14:19:28.674267Z",
     "start_time": "2025-09-17T14:19:28.668331Z"
    }
   },
   "cell_type": "code",
   "source": [
    "def forward_mf_0(mu_k_vocab, sigma_k_vocab, x_vocab_next, q_0, W_k, W_q, beta):\n",
    "\n",
    "    # Compute the probability of the text token\n",
    "    k_vocab_next = x_vocab_next @ W_k.T\n",
    "\n",
    "    p_x_next = torch.exp( beta * (k_vocab_next @ q_0 - (mu_k_vocab @ q_0 + beta * q_0 @ (sigma_k_vocab @ q_0) / 2)))\n",
    "\n",
    "    # Get the mean of x\n",
    "    mu_x_next = torch.sum(p_x_next[:, None] * x_vocab_next, dim=0)\n",
    "\n",
    "    mu_k_next = mu_x_next @ W_k.T\n",
    "    mu_q_next = mu_x_next @ W_q.T\n",
    "\n",
    "    q_next_vocab = tok_emb @ W_q.T\n",
    "    q_centered_next = q_next_vocab - mu_q_next\n",
    "    sigma_q_next = torch.einsum('n,nm,nk->mk', p_x_next, q_centered_next, q_centered_next)\n",
    "\n",
    "    print(\"q @ Sigma @ q\", q_0 @ (sigma_k_vocab @ q_0))\n",
    "    print('p(x)', p_x_next)\n",
    "    print(\"Sum p(x)\", torch.sum(p_x_next))\n",
    "    print('x_vocab', x_vocab_next)\n",
    "\n",
    "    return mu_k_next, mu_q_next, sigma_q_next, p_x_next"
   ],
   "outputs": [],
   "execution_count": 88
  },
  {
   "cell_type": "markdown",
   "source": [
    "### Experiment settings"
   ],
   "metadata": {
    "id": "_y62uH9IPlLe"
   }
  },
  {
   "cell_type": "code",
   "source": [
    "num_trials = 10000\n",
    "num_running_steps = 5\n",
    "\n",
    "timesteps_to_examine = [0, 1, 2, 3, 4] # For debugging purposes"
   ],
   "metadata": {
    "id": "nbmoBXLWPmv7",
    "ExecuteTime": {
     "end_time": "2025-09-17T13:44:59.607050Z",
     "start_time": "2025-09-17T13:44:59.603814Z"
    }
   },
   "outputs": [],
   "execution_count": 31
  },
  {
   "cell_type": "markdown",
   "source": [
    "### Network settings"
   ],
   "metadata": {
    "id": "C4sGkaihDajo"
   }
  },
  {
   "cell_type": "code",
   "source": [
    "beta = 1.0\n",
    "binary_vars = False\n",
    "q_is_roll = True  # If W_q a shift over W_k\n",
    "patterns_from_vocab = True # If you draw samples from the token vocab to make the W patterns\n",
    "emb_size = 5000 # Number of tokens in the embedding. -1 if you want the full vocab size\n",
    "num_patterns = 3  # Number of patterns in the W matrices. -1 if you want to match token_size\n",
    "token_size = 750 # Number of features. If -1, match with the embedding token size, otherwise, force your selection.\n",
    "random_ini_token = False\n",
    "ini_token_idx = 1\n",
    "# prev seed  150, 158\n",
    "seed = 250\n",
    "\n",
    "torch.manual_seed(seed)\n"
   ],
   "metadata": {
    "id": "kTk3c5xOCJsZ",
    "ExecuteTime": {
     "end_time": "2025-09-17T14:21:00.956376Z",
     "start_time": "2025-09-17T14:21:00.950726Z"
    }
   },
   "outputs": [
    {
     "data": {
      "text/plain": [
       "<torch._C.Generator at 0x7f142d12d250>"
      ]
     },
     "execution_count": 94,
     "metadata": {},
     "output_type": "execute_result"
    }
   ],
   "execution_count": 94
  },
  {
   "metadata": {
    "colab": {
     "base_uri": "https://localhost:8080/"
    },
    "id": "VWUTjQVatGMz",
    "outputId": "5741d89c-c89e-4d77-f646-2c82f42e5109",
    "ExecuteTime": {
     "end_time": "2025-09-17T13:45:02.905303Z",
     "start_time": "2025-09-17T13:44:59.732653Z"
    }
   },
   "cell_type": "code",
   "source": [
    "çdevice = 'cpu'  # examples: 'cpu', 'cuda', 'cuda:0', 'cuda:1', etc.\n",
    "\n",
    "if not binary_vars:\n",
    "\n",
    "    # In this case instead of initializing from random varialbes, use GPT2 embeddings\n",
    "    # as initialization (They are distributed in a Gaussian way for a large number of tokens).\n",
    "\n",
    "    # Load GPT2\n",
    "    model_name = \"gpt2\"\n",
    "    model = GPT.from_pretrained(model_name, dict(dropout=0.0))\n",
    "    model.to(device)"
   ],
   "outputs": [
    {
     "name": "stdout",
     "output_type": "stream",
     "text": [
      "loading weights from pretrained gpt: gpt2\n",
      "forcing vocab_size=50257, block_size=1024, bias=True\n",
      "overriding dropout rate to 0.0\n",
      "WARNING: using slow attention. Flash Attention requires PyTorch >= 2.0\n",
      "WARNING: using slow attention. Flash Attention requires PyTorch >= 2.0\n",
      "WARNING: using slow attention. Flash Attention requires PyTorch >= 2.0\n",
      "WARNING: using slow attention. Flash Attention requires PyTorch >= 2.0\n",
      "WARNING: using slow attention. Flash Attention requires PyTorch >= 2.0\n",
      "WARNING: using slow attention. Flash Attention requires PyTorch >= 2.0\n",
      "WARNING: using slow attention. Flash Attention requires PyTorch >= 2.0\n",
      "WARNING: using slow attention. Flash Attention requires PyTorch >= 2.0\n",
      "WARNING: using slow attention. Flash Attention requires PyTorch >= 2.0\n",
      "WARNING: using slow attention. Flash Attention requires PyTorch >= 2.0\n",
      "WARNING: using slow attention. Flash Attention requires PyTorch >= 2.0\n",
      "WARNING: using slow attention. Flash Attention requires PyTorch >= 2.0\n",
      "number of parameters: 123.65M\n"
     ]
    }
   ],
   "execution_count": 33
  },
  {
   "cell_type": "code",
   "source": [
    "####################\n",
    "# Set up the vocabulary and weights\n",
    "####################\n",
    "\n",
    "# Define the tokens or spins\n",
    "if binary_vars:    # Binary variables\n",
    "\n",
    "    if token_size == -1:\n",
    "        raise Exception(\"token_size must be defined\")\n",
    "    if num_patterns == -1:\n",
    "        raise Exception(\"num_patterns must be defined\")\n",
    "    if emb_size == -1:\n",
    "        raise Exception(\"emb_size must be defined\")\n",
    "\n",
    "    tok_emb = (torch.rand((emb_size, token_size), device=device) > 0.5).float()\n",
    "    tok_emb = tok_emb * 2 - 1\n",
    "else:   # Tokens from GPT2\n",
    "\n",
    "    # Get embeddings to sample tokens from them\n",
    "    wte = model.transformer.wte\n",
    "    num_embeddings = wte.num_embeddings\n",
    "\n",
    "    if token_size==-1:\n",
    "        token_size = wte.embedding_dim\n",
    "\n",
    "    if emb_size == -1:\n",
    "      emb_size = num_embeddings\n",
    "\n",
    "    if num_patterns == -1:\n",
    "      num_patterns = token_size\n",
    "\n",
    "    # Select emb_size tokens from the embedding to create a smaller vocabulary\n",
    "    perm_tokens_idxs = torch.randperm(num_embeddings)\n",
    "    tokens_idxs = perm_tokens_idxs[:emb_size]\n",
    "\n",
    "    # Transform into token representation\n",
    "    # Equivalent to x_{t+1} in the LaTeX doc\n",
    "    tok_emb = model.transformer.wte(tokens_idxs).detach()\n",
    "    perm_feats_idxs = torch.randperm(wte.embedding_dim)\n",
    "    tok_emb = tok_emb[:, perm_feats_idxs[:token_size]]\n",
    "\n",
    "# Define the W patterns\n",
    "\n",
    "if patterns_from_vocab:\n",
    "\n",
    "    if num_patterns > emb_size:\n",
    "        raise Exception(\"num_patterns > emb_size\")\n",
    "\n",
    "    k_patts = torch.randperm(emb_size)[:num_patterns]\n",
    "    # q_patts = torch.randperm(emb_size)[:num_patterns]\n",
    "    q_patts = torch.randperm(num_patterns)\n",
    "\n",
    "    # counter = 0\n",
    "    # while(torch.equal(k_patts, q_patts) and (counter < 10)):\n",
    "    #     q_patts = torch.randperm(num_patterns)\n",
    "    #     counter = counter + 1\n",
    "\n",
    "    W_k = tok_emb[k_patts]\n",
    "    # W_q = tok_emb[q_patts]\n",
    "    W_q = W_k[q_patts]\n",
    "\n",
    "    if binary_vars:\n",
    "        W_k = W_k / math.sqrt(token_size)\n",
    "        W_q = W_q / math.sqrt(token_size)\n",
    "    else:\n",
    "\n",
    "        tok_mean = torch.mean(tok_emb, dim=None)\n",
    "        tok_mean_b = torch.mean(tok_emb, dim=0)\n",
    "        k_mean = torch.mean(tok_emb[k_patts], dim=None)\n",
    "        q_mean = torch.mean(tok_emb[q_patts], dim=None)\n",
    "        k_std = torch.std(tok_emb[k_patts], dim=None)\n",
    "        q_std = torch.std(tok_emb[q_patts], dim=None)\n",
    "\n",
    "        tok_emb_std = torch.std(tok_emb, dim=None)\n",
    "        tok_emb_std_b = torch.std(tok_emb, dim=0)\n",
    "\n",
    "        scaling = torch.sqrt(tok_emb_std_b**2 + tok_mean_b**2)\n",
    "        # FPC = 1 - (num_patterns / emb_size)\n",
    "        # W_k = tok_emb[k_patts] / scaling\n",
    "        # W_q = tok_emb[q_patts] / scaling\n",
    "        #\n",
    "        # J = (1 / math.sqrt(token_size * num_patterns)) * (W_k.T @ W_q)\n",
    "\n",
    "        W_k = W_k / (scaling * (token_size * num_patterns)**(1/4))\n",
    "        W_q = W_q / (scaling * (token_size * num_patterns)**(1/4))\n",
    "\n",
    "\n",
    "    J = (W_k.T @ W_q)\n",
    "    J_var = torch.var(J, dim=None)\n",
    "    print(\"J variance\", J_var, 1/token_size)\n",
    "    print()\n",
    "\n",
    "else:\n",
    "    # Create random W patterns\n",
    "    w_mean = 0\n",
    "    # w_std = 1/math.sqrt(token_size)\n",
    "    w_std = 1\n",
    "    # num_patterns = token_size\n",
    "    W_k = torch.normal(w_mean, w_std, (num_patterns, token_size))\n",
    "    W_q = torch.normal(w_mean, w_std, (num_patterns, token_size))\n",
    "\n",
    "    if binary_vars and not patterns_from_vocab:\n",
    "        raise Exception(\"Behavior not programmed yet\")\n",
    "\n",
    "if q_is_roll:\n",
    "    W_q = torch.roll(W_k, 1, 0)\n"
   ],
   "metadata": {
    "id": "tx3uzupaDpd2",
    "ExecuteTime": {
     "end_time": "2025-09-17T13:45:03.075486Z",
     "start_time": "2025-09-17T13:45:03.015512Z"
    }
   },
   "outputs": [
    {
     "name": "stdout",
     "output_type": "stream",
     "text": [
      "J variance tensor(0.0012) 0.0013333333333333333\n",
      "\n"
     ]
    }
   ],
   "execution_count": 34
  },
  {
   "cell_type": "markdown",
   "source": [
    "### Choose initial token"
   ],
   "metadata": {
    "id": "fVZJIjdXK6zB"
   }
  },
  {
   "cell_type": "code",
   "source": [
    "# Choose initial token\n",
    "# Choose x_0\n",
    "if random_ini_token:\n",
    "    tok_0 = torch.randn((emb_size, token_size))[ini_token_idx]\n",
    "else:\n",
    "    # tok_0 = tok_emb[ini_token_idx]\n",
    "    tok_0 = W_q[ini_token_idx]\n"
   ],
   "metadata": {
    "id": "BGxwJRvnKQTD",
    "ExecuteTime": {
     "end_time": "2025-09-17T13:45:03.101466Z",
     "start_time": "2025-09-17T13:45:03.098476Z"
    }
   },
   "outputs": [],
   "execution_count": 35
  },
  {
   "metadata": {},
   "cell_type": "markdown",
   "source": "### For debugging purposes"
  },
  {
   "metadata": {
    "ExecuteTime": {
     "end_time": "2025-09-17T13:45:03.164143Z",
     "start_time": "2025-09-17T13:45:03.157512Z"
    }
   },
   "cell_type": "code",
   "source": [
    "timesteps_to_examine = [t for t in timesteps_to_examine if t < num_running_steps]\n",
    "timesteps_to_examine_dict = dict([(k,v) for k, v in zip(timesteps_to_examine, range(len(timesteps_to_examine)))])\n",
    "\n",
    "# Not used atm because we are averaging. Only for use in simulations\n",
    "# Create structure to save data from different runs\n",
    "n_trials_to_examine = [1, 3]\n",
    "n_trials_to_examine = [r for r in n_trials_to_examine if r < num_running_steps]\n",
    "n_trials_to_examine_dict = dict([(k,v) for k, v in zip(n_trials_to_examine, range(len(n_trials_to_examine)))])"
   ],
   "outputs": [],
   "execution_count": 36
  },
  {
   "cell_type": "markdown",
   "source": "## Simulation. Model without approximation",
   "metadata": {
    "id": "fE_AcMyUQA1Y"
   }
  },
  {
   "cell_type": "code",
   "source": [
    "\n",
    "################################################\n",
    "# Compute the average over multiple trajectories (without approximation)\n",
    "################################################\n",
    "\n",
    "def simulate(beta):\n",
    "\n",
    "    # Variables to save statistics\n",
    "    tok_stats_sim = torch.zeros((num_trials, num_running_steps, token_size))\n",
    "    idxs = torch.zeros((num_trials, num_running_steps))\n",
    "    probs_sim_t_mean = torch.zeros((num_running_steps, emb_size))\n",
    "\n",
    "\n",
    "    startt = time.time()\n",
    "    for r in range(num_trials):\n",
    "\n",
    "        # if r % 100 == 0:\n",
    "        #     print(f\"Trial {r+1}/{num_trials}\")\n",
    "\n",
    "        tok_prev = tok_0.clone()\n",
    "        for t in range(num_running_steps):\n",
    "\n",
    "            # Get the next token\n",
    "            tok_prev, idx_prev, Wk_Wq_x_prev_2, q_prev_2, probs_prev = forward(tok_emb, tok_prev, W_k, W_q, beta)\n",
    "\n",
    "            # Accumulate stats\n",
    "            tok_stats_sim[r, t, :] += tok_prev\n",
    "            idxs[r, t] = idx_prev\n",
    "            probs_sim_t_mean[t, :] = probs_sim_t_mean[t, :] + probs_prev\n",
    "\n",
    "    probs_sim_t_mean /= num_trials\n",
    "\n",
    "    endt = time.time()\n",
    "    time_elapsed = endt - startt\n",
    "    print(f\"Simulation. Time elapsed: {time_elapsed:.2f} seconds\")\n",
    "\n",
    "    return tok_stats_sim, idxs, probs_sim_t_mean"
   ],
   "metadata": {
    "id": "yaoY9PoFNgmY",
    "colab": {
     "base_uri": "https://localhost:8080/"
    },
    "outputId": "fd9d7843-0856-49e8-dbf1-36942eaae20a",
    "ExecuteTime": {
     "end_time": "2025-09-17T13:48:44.814072Z",
     "start_time": "2025-09-17T13:48:44.806942Z"
    }
   },
   "outputs": [],
   "execution_count": 39
  },
  {
   "metadata": {
    "ExecuteTime": {
     "end_time": "2025-09-17T13:52:44.964898Z",
     "start_time": "2025-09-17T13:51:43.569476Z"
    }
   },
   "cell_type": "code",
   "source": [
    "tok_stats_sim, idxs, probs_sim_t_mean = simulate(beta)\n",
    "\n",
    "print(\"Selected tokens at each step\")\n",
    "print(idxs[0])\n",
    "print(idxs[3])\n",
    "print(idxs[100])\n",
    "print(idxs[-1])\n",
    "\n",
    "mode_idxs = torch.mode(idxs, 0).values\n",
    "tok_stats_sim_avg = torch.mean(tok_stats_sim, dim=0)"
   ],
   "outputs": [
    {
     "name": "stdout",
     "output_type": "stream",
     "text": [
      "Simulation. Time elapsed: 61.30 seconds\n",
      "Selected tokens at each step\n",
      "tensor([4452.,  339.,  449., 4452.,  339.])\n",
      "tensor([4452.,  339.,  449., 4452.,  339.])\n",
      "tensor([4452.,  339.,  449., 4452.,  339.])\n",
      "tensor([4452.,  339.,  449., 4452.,  339.])\n"
     ]
    }
   ],
   "execution_count": 41
  },
  {
   "metadata": {
    "ExecuteTime": {
     "end_time": "2025-09-17T13:52:50.017169Z",
     "start_time": "2025-09-17T13:52:50.010771Z"
    }
   },
   "cell_type": "code",
   "source": "tok_stats_sim_avg @ W_k.T",
   "outputs": [
    {
     "data": {
      "text/plain": [
       "tensor([[ 0.2480,  5.7015,  1.0260],\n",
       "        [ 3.6530,  1.0260, 15.4522],\n",
       "        [18.1942,  0.2480,  3.6530],\n",
       "        [ 0.2480,  5.7015,  1.0260],\n",
       "        [ 3.6530,  1.0260, 15.4522]])"
      ]
     },
     "execution_count": 42,
     "metadata": {},
     "output_type": "execute_result"
    }
   ],
   "execution_count": 42
  },
  {
   "cell_type": "code",
   "source": [
    "idxs[0]"
   ],
   "metadata": {
    "colab": {
     "base_uri": "https://localhost:8080/"
    },
    "id": "aixv2DqjcB_M",
    "outputId": "0a8ed78f-6c0b-4b36-9cc8-0817cbf1ac25",
    "ExecuteTime": {
     "end_time": "2025-09-17T13:52:51.422779Z",
     "start_time": "2025-09-17T13:52:51.417263Z"
    }
   },
   "outputs": [
    {
     "data": {
      "text/plain": [
       "tensor([4452.,  339.,  449., 4452.,  339.])"
      ]
     },
     "execution_count": 43,
     "metadata": {},
     "output_type": "execute_result"
    }
   ],
   "execution_count": 43
  },
  {
   "cell_type": "markdown",
   "source": [
    "## Model with approximation"
   ],
   "metadata": {
    "id": "0f2pZyZnQc_g"
   }
  },
  {
   "cell_type": "code",
   "source": [
    "#####\n",
    "# Compute the approximation\n",
    "########\n",
    "\n",
    "def simulate_mf(beta, mu_k_vocab, sigma_k_vocab, tok_0):\n",
    "\n",
    "    # Variables to save stats\n",
    "    stats_k_mf = torch.zeros((num_running_steps, num_patterns))\n",
    "    idxs_mf = torch.zeros(num_running_steps)\n",
    "\n",
    "    probs_mf_t = torch.zeros(len(timesteps_to_examine), emb_size)\n",
    "    q_mf_t = torch.zeros(num_running_steps, num_patterns)\n",
    "    q_mf_cov_t = torch.zeros(num_running_steps, num_patterns, num_patterns)\n",
    "\n",
    "    # Start conditions\n",
    "    q_0 = tok_0 @ W_q.T\n",
    "\n",
    "    for t in range(0, num_running_steps):\n",
    "\n",
    "        if t == 0:\n",
    "             # First iteration without Gaussian approx for q\n",
    "            mu_k_prev, mu_q_prev, sigma_q_prev, p_x_prev = forward_mf_0(mu_k_vocab, sigma_k_vocab, tok_emb, q_0, W_k, W_q, beta)\n",
    "        else:\n",
    "            mu_k_prev, mu_q_prev, sigma_q_prev, p_x_prev = forward_mf(tok_emb, mu_k_vocab, sigma_k_vocab, mu_q_prev, sigma_q_prev, W_k, W_q, beta)\n",
    "\n",
    "        print(mu_k_prev)\n",
    "\n",
    "        # Save stats\n",
    "        stats_k_mf[t] = mu_k_prev\n",
    "        if t in timesteps_to_examine:\n",
    "            probs_mf_t[timesteps_to_examine_dict[t]] = p_x_prev\n",
    "            q_mf_t[t] = mu_q_prev\n",
    "            q_mf_cov_t[t] = sigma_q_prev\n",
    "\n",
    "    print(\"MF\")\n",
    "    return stats_k_mf, idxs_mf, probs_mf_t, q_mf_t, q_mf_cov_t\n",
    "\n"
   ],
   "metadata": {
    "colab": {
     "base_uri": "https://localhost:8080/"
    },
    "id": "6kn9clYLhQkc",
    "outputId": "0a8a15b4-3f07-4adc-cd71-764dea5c2ef2",
    "ExecuteTime": {
     "end_time": "2025-09-17T14:06:52.467325Z",
     "start_time": "2025-09-17T14:06:52.460968Z"
    }
   },
   "outputs": [],
   "execution_count": 80
  },
  {
   "metadata": {
    "ExecuteTime": {
     "end_time": "2025-09-17T14:20:39.703111Z",
     "start_time": "2025-09-17T14:20:39.653811Z"
    }
   },
   "cell_type": "code",
   "source": [
    "# Compute sufficient statistics for k\n",
    "# Get mean and covariances from the vocabulary for the approximation\n",
    "# For x\n",
    "tok_emb_mu = torch.mean(tok_emb, dim=0)\n",
    "tok_emb_cov = torch.cov((tok_emb).T)\n",
    "\n",
    "\n",
    "# For k it's faster just projecting the statistics by the linearity\n",
    "mu_k = tok_emb_mu @  W_k.T\n",
    "cov_k =  W_k @ tok_emb_cov @ W_k.T"
   ],
   "outputs": [],
   "execution_count": 92
  },
  {
   "metadata": {
    "ExecuteTime": {
     "end_time": "2025-09-17T14:20:40.099444Z",
     "start_time": "2025-09-17T14:20:40.037735Z"
    }
   },
   "cell_type": "code",
   "source": "stats_k_mf, idxs_mf, probs_mf_t, q_mf_t, q_mf_cov_t = simulate_mf(beta, mu_k, cov_k, tok_0)",
   "outputs": [
    {
     "name": "stdout",
     "output_type": "stream",
     "text": [
      "q @ Sigma @ q tensor(22.4299)\n",
      "p(x) tensor([0.0000e+00, 8.4078e-45, 0.0000e+00,  ..., 1.5695e-43, 0.0000e+00,\n",
      "        4.3340e-40])\n",
      "Sum p(x) tensor(inf)\n",
      "x_vocab tensor([[-0.0491,  0.0356,  0.2448,  ...,  0.0325,  0.1669,  0.1405],\n",
      "        [-0.0500,  0.1656, -0.0094,  ...,  0.0198,  0.1091, -0.0135],\n",
      "        [-0.0227,  0.0160,  0.0018,  ..., -0.0315,  0.1474, -0.1365],\n",
      "        ...,\n",
      "        [ 0.2131,  0.0425,  0.1922,  ...,  0.0080, -0.1588, -0.1116],\n",
      "        [-0.1939, -0.1537, -0.2105,  ...,  0.1219,  0.0243, -0.0217],\n",
      "        [-0.1501, -0.0390, -0.0410,  ..., -0.1191, -0.0040,  0.0064]])\n",
      "tensor([nan, inf, nan])\n",
      "tensor([nan, nan, nan])\n",
      "tensor([nan, nan, nan])\n",
      "tensor([nan, nan, nan])\n",
      "tensor([nan, nan, nan])\n",
      "MF\n"
     ]
    }
   ],
   "execution_count": 93
  },
  {
   "metadata": {
    "ExecuteTime": {
     "end_time": "2025-09-17T13:53:23.611834Z",
     "start_time": "2025-09-17T13:53:23.607561Z"
    }
   },
   "cell_type": "code",
   "source": "stats_k_mf",
   "outputs": [
    {
     "data": {
      "text/plain": [
       "tensor([[nan, inf, nan],\n",
       "        [nan, nan, nan],\n",
       "        [nan, nan, nan],\n",
       "        [nan, nan, nan],\n",
       "        [nan, nan, nan]])"
      ]
     },
     "execution_count": 49,
     "metadata": {},
     "output_type": "execute_result"
    }
   ],
   "execution_count": 49
  },
  {
   "metadata": {
    "ExecuteTime": {
     "end_time": "2025-09-17T13:45:48.038867908Z",
     "start_time": "2025-07-24T12:24:50.117608Z"
    }
   },
   "cell_type": "code",
   "source": "q_mf_cov_t[3]",
   "outputs": [
    {
     "data": {
      "text/plain": [
       "tensor([[ 5.7782e-14, -2.1382e-13,  2.4790e-13],\n",
       "        [-2.1382e-13,  3.7364e-12, -9.8593e-13],\n",
       "        [ 2.4790e-13, -9.8593e-13,  1.0653e-12]])"
      ]
     },
     "execution_count": 112,
     "metadata": {},
     "output_type": "execute_result"
    }
   ],
   "execution_count": 112
  },
  {
   "cell_type": "markdown",
   "source": [
    "## Plotting"
   ],
   "metadata": {
    "id": "teV7SUMNV9IJ"
   }
  },
  {
   "metadata": {
    "ExecuteTime": {
     "end_time": "2025-09-17T14:05:25.623141Z",
     "start_time": "2025-09-17T14:05:08.595097Z"
    }
   },
   "cell_type": "code",
   "source": [
    "for t in range(len(timesteps_to_examine)):\n",
    "    fig, ax = plt.subplots(1, 2, figsize=(4, 8))\n",
    "\n",
    "    ax = ax.ravel()\n",
    "\n",
    "\n",
    "    # Print stats about probabilities\n",
    "\n",
    "    print(torch.allclose(probs_sim_t_mean[timesteps_to_examine_dict[t], :], probs_mf_t[timesteps_to_examine_dict[t], :]))\n",
    "\n",
    "    maxprob = torch.max(torch.cat((probs_sim_t_mean[timesteps_to_examine_dict[t], :], probs_mf_t[timesteps_to_examine_dict[t], :])))\n",
    "\n",
    "    print(maxprob, torch.max(probs_sim_t_mean[timesteps_to_examine_dict[t], :]), torch.max(probs_mf_t[timesteps_to_examine_dict[t], :]))\n",
    "\n",
    "    hmargin = 0.1\n",
    "    vmargin = 0.1\n",
    "    bw = 2.1\n",
    "\n",
    "    # Plot raw bar diagram for the probabilites' comparison\n",
    "    ax[0].bar(torch.arange(emb_size).int(), probs_sim_t_mean[timesteps_to_examine_dict[t], :], width=bw)\n",
    "    ax[0].set_title(f\"Sim Avg Max {torch.argmax(probs_sim_t_mean[timesteps_to_examine_dict[t], :])}\")\n",
    "    ax[1].bar(torch.arange(emb_size).int(), probs_mf_t[timesteps_to_examine_dict[t], :], width=bw)\n",
    "    ax[1].set_title(f\"MF Max {torch.argmax(probs_mf_t[timesteps_to_examine_dict[t], :])}\")\n",
    "\n",
    "    for ax_i in ax:\n",
    "        ax_i.set_ylim(0, maxprob + maxprob * vmargin)\n",
    "        ax_i.set_xlim(0 - emb_size * hmargin, emb_size + emb_size * hmargin)\n",
    "    plt.suptitle(rf\"Probs t={timesteps_to_examine[t]} $\\beta$={beta}\")\n",
    "\n",
    "    # Plot cumsum\n",
    "    plt.figure()\n",
    "    plt.plot(torch.arange(emb_size), torch.cumsum(probs_sim_t_mean[timesteps_to_examine_dict[t], :], dim=0), label=\"Sim Avg\")\n",
    "    plt.plot(torch.arange(emb_size), torch.cumsum(probs_mf_t[timesteps_to_examine_dict[t], :], dim=0), \"-.\", label=\"MF\")\n",
    "    plt.suptitle(rf\"Cumsum t={timesteps_to_examine[t]} $\\beta$={beta}\")\n",
    "    plt.legend()\n",
    "\n",
    "    # Plot ordered probabilities\n",
    "    fig, ax = plt.subplots(1, 2, figsize=(4, 8))\n",
    "    ax = ax.ravel()\n",
    "    ax[0].bar(torch.arange(emb_size), torch.sort(probs_sim_t_mean[timesteps_to_examine_dict[t], :], dim=0).values, width=bw)\n",
    "    ax[0].set_title(f\"Sim avg\")\n",
    "    ax[1].bar(torch.arange(emb_size), torch.sort(probs_mf_t[timesteps_to_examine_dict[t], :], dim=0).values, width=bw)\n",
    "    ax[1].set_title(f\"MF \")\n",
    "\n",
    "    for ax_i in ax:\n",
    "        ax_i.set_ylim(0, maxprob + maxprob * vmargin)\n",
    "        ax_i.set_xlim(0 - emb_size * hmargin, emb_size + emb_size * hmargin)\n",
    "\n",
    "    plt.suptitle(rf\"Sort t={t} $\\beta$={beta}\")\n"
   ],
   "outputs": [
    {
     "name": "stdout",
     "output_type": "stream",
     "text": [
      "False\n",
      "tensor(inf) tensor(1.) tensor(inf)\n"
     ]
    },
    {
     "name": "stderr",
     "output_type": "stream",
     "text": [
      "Exception ignored in: <bound method IPythonKernel._clean_thread_parent_frames of <ipykernel.ipkernel.IPythonKernel object at 0x7f142c380070>>\n",
      "Traceback (most recent call last):\n",
      "  File \"/home/apoc/Documents/projects/nanoGPT/.venv/lib/python3.10/site-packages/ipykernel/ipkernel.py\", line 775, in _clean_thread_parent_frames\n",
      "    def _clean_thread_parent_frames(\n",
      "KeyboardInterrupt: \n"
     ]
    },
    {
     "ename": "KeyboardInterrupt",
     "evalue": "",
     "output_type": "error",
     "traceback": [
      "\u001B[0;31m---------------------------------------------------------------------------\u001B[0m",
      "\u001B[0;31mKeyboardInterrupt\u001B[0m                         Traceback (most recent call last)",
      "Cell \u001B[0;32mIn[74], line 42\u001B[0m\n\u001B[1;32m     40\u001B[0m ax[\u001B[38;5;241m0\u001B[39m]\u001B[38;5;241m.\u001B[39mbar(torch\u001B[38;5;241m.\u001B[39marange(emb_size), torch\u001B[38;5;241m.\u001B[39msort(probs_sim_t_mean[timesteps_to_examine_dict[t], :], dim\u001B[38;5;241m=\u001B[39m\u001B[38;5;241m0\u001B[39m)\u001B[38;5;241m.\u001B[39mvalues, width\u001B[38;5;241m=\u001B[39mbw)\n\u001B[1;32m     41\u001B[0m ax[\u001B[38;5;241m0\u001B[39m]\u001B[38;5;241m.\u001B[39mset_title(\u001B[38;5;124mf\u001B[39m\u001B[38;5;124m\"\u001B[39m\u001B[38;5;124mSim avg\u001B[39m\u001B[38;5;124m\"\u001B[39m)\n\u001B[0;32m---> 42\u001B[0m \u001B[43max\u001B[49m\u001B[43m[\u001B[49m\u001B[38;5;241;43m1\u001B[39;49m\u001B[43m]\u001B[49m\u001B[38;5;241;43m.\u001B[39;49m\u001B[43mbar\u001B[49m\u001B[43m(\u001B[49m\u001B[43mtorch\u001B[49m\u001B[38;5;241;43m.\u001B[39;49m\u001B[43marange\u001B[49m\u001B[43m(\u001B[49m\u001B[43memb_size\u001B[49m\u001B[43m)\u001B[49m\u001B[43m,\u001B[49m\u001B[43m \u001B[49m\u001B[43mtorch\u001B[49m\u001B[38;5;241;43m.\u001B[39;49m\u001B[43msort\u001B[49m\u001B[43m(\u001B[49m\u001B[43mprobs_mf_t\u001B[49m\u001B[43m[\u001B[49m\u001B[43mtimesteps_to_examine_dict\u001B[49m\u001B[43m[\u001B[49m\u001B[43mt\u001B[49m\u001B[43m]\u001B[49m\u001B[43m,\u001B[49m\u001B[43m \u001B[49m\u001B[43m:\u001B[49m\u001B[43m]\u001B[49m\u001B[43m,\u001B[49m\u001B[43m \u001B[49m\u001B[43mdim\u001B[49m\u001B[38;5;241;43m=\u001B[39;49m\u001B[38;5;241;43m0\u001B[39;49m\u001B[43m)\u001B[49m\u001B[38;5;241;43m.\u001B[39;49m\u001B[43mvalues\u001B[49m\u001B[43m,\u001B[49m\u001B[43m \u001B[49m\u001B[43mwidth\u001B[49m\u001B[38;5;241;43m=\u001B[39;49m\u001B[43mbw\u001B[49m\u001B[43m)\u001B[49m\n\u001B[1;32m     43\u001B[0m ax[\u001B[38;5;241m1\u001B[39m]\u001B[38;5;241m.\u001B[39mset_title(\u001B[38;5;124mf\u001B[39m\u001B[38;5;124m\"\u001B[39m\u001B[38;5;124mMF \u001B[39m\u001B[38;5;124m\"\u001B[39m)\n\u001B[1;32m     45\u001B[0m \u001B[38;5;28;01mfor\u001B[39;00m ax_i \u001B[38;5;129;01min\u001B[39;00m ax:\n",
      "File \u001B[0;32m~/Documents/projects/nanoGPT/.venv/lib/python3.10/site-packages/matplotlib/__init__.py:1521\u001B[0m, in \u001B[0;36m_preprocess_data.<locals>.inner\u001B[0;34m(ax, data, *args, **kwargs)\u001B[0m\n\u001B[1;32m   1518\u001B[0m \u001B[38;5;129m@functools\u001B[39m\u001B[38;5;241m.\u001B[39mwraps(func)\n\u001B[1;32m   1519\u001B[0m \u001B[38;5;28;01mdef\u001B[39;00m\u001B[38;5;250m \u001B[39m\u001B[38;5;21minner\u001B[39m(ax, \u001B[38;5;241m*\u001B[39margs, data\u001B[38;5;241m=\u001B[39m\u001B[38;5;28;01mNone\u001B[39;00m, \u001B[38;5;241m*\u001B[39m\u001B[38;5;241m*\u001B[39mkwargs):\n\u001B[1;32m   1520\u001B[0m     \u001B[38;5;28;01mif\u001B[39;00m data \u001B[38;5;129;01mis\u001B[39;00m \u001B[38;5;28;01mNone\u001B[39;00m:\n\u001B[0;32m-> 1521\u001B[0m         \u001B[38;5;28;01mreturn\u001B[39;00m \u001B[43mfunc\u001B[49m\u001B[43m(\u001B[49m\n\u001B[1;32m   1522\u001B[0m \u001B[43m            \u001B[49m\u001B[43max\u001B[49m\u001B[43m,\u001B[49m\n\u001B[1;32m   1523\u001B[0m \u001B[43m            \u001B[49m\u001B[38;5;241;43m*\u001B[39;49m\u001B[38;5;28;43mmap\u001B[39;49m\u001B[43m(\u001B[49m\u001B[43mcbook\u001B[49m\u001B[38;5;241;43m.\u001B[39;49m\u001B[43msanitize_sequence\u001B[49m\u001B[43m,\u001B[49m\u001B[43m \u001B[49m\u001B[43margs\u001B[49m\u001B[43m)\u001B[49m\u001B[43m,\u001B[49m\n\u001B[1;32m   1524\u001B[0m \u001B[43m            \u001B[49m\u001B[38;5;241;43m*\u001B[39;49m\u001B[38;5;241;43m*\u001B[39;49m\u001B[43m{\u001B[49m\u001B[43mk\u001B[49m\u001B[43m:\u001B[49m\u001B[43m \u001B[49m\u001B[43mcbook\u001B[49m\u001B[38;5;241;43m.\u001B[39;49m\u001B[43msanitize_sequence\u001B[49m\u001B[43m(\u001B[49m\u001B[43mv\u001B[49m\u001B[43m)\u001B[49m\u001B[43m \u001B[49m\u001B[38;5;28;43;01mfor\u001B[39;49;00m\u001B[43m \u001B[49m\u001B[43mk\u001B[49m\u001B[43m,\u001B[49m\u001B[43m \u001B[49m\u001B[43mv\u001B[49m\u001B[43m \u001B[49m\u001B[38;5;129;43;01min\u001B[39;49;00m\u001B[43m \u001B[49m\u001B[43mkwargs\u001B[49m\u001B[38;5;241;43m.\u001B[39;49m\u001B[43mitems\u001B[49m\u001B[43m(\u001B[49m\u001B[43m)\u001B[49m\u001B[43m}\u001B[49m\u001B[43m)\u001B[49m\n\u001B[1;32m   1526\u001B[0m     bound \u001B[38;5;241m=\u001B[39m new_sig\u001B[38;5;241m.\u001B[39mbind(ax, \u001B[38;5;241m*\u001B[39margs, \u001B[38;5;241m*\u001B[39m\u001B[38;5;241m*\u001B[39mkwargs)\n\u001B[1;32m   1527\u001B[0m     auto_label \u001B[38;5;241m=\u001B[39m (bound\u001B[38;5;241m.\u001B[39marguments\u001B[38;5;241m.\u001B[39mget(label_namer)\n\u001B[1;32m   1528\u001B[0m                   \u001B[38;5;129;01mor\u001B[39;00m bound\u001B[38;5;241m.\u001B[39mkwargs\u001B[38;5;241m.\u001B[39mget(label_namer))\n",
      "File \u001B[0;32m~/Documents/projects/nanoGPT/.venv/lib/python3.10/site-packages/matplotlib/axes/_axes.py:2649\u001B[0m, in \u001B[0;36mAxes.bar\u001B[0;34m(self, x, height, width, bottom, align, **kwargs)\u001B[0m\n\u001B[1;32m   2647\u001B[0m     \u001B[38;5;28;01melse\u001B[39;00m:  \u001B[38;5;66;03m# horizontal\u001B[39;00m\n\u001B[1;32m   2648\u001B[0m         r\u001B[38;5;241m.\u001B[39msticky_edges\u001B[38;5;241m.\u001B[39mx\u001B[38;5;241m.\u001B[39mappend(l)\n\u001B[0;32m-> 2649\u001B[0m     \u001B[38;5;28;43mself\u001B[39;49m\u001B[38;5;241;43m.\u001B[39;49m\u001B[43madd_patch\u001B[49m\u001B[43m(\u001B[49m\u001B[43mr\u001B[49m\u001B[43m)\u001B[49m\n\u001B[1;32m   2650\u001B[0m     patches\u001B[38;5;241m.\u001B[39mappend(r)\n\u001B[1;32m   2652\u001B[0m \u001B[38;5;28;01mif\u001B[39;00m xerr \u001B[38;5;129;01mis\u001B[39;00m \u001B[38;5;129;01mnot\u001B[39;00m \u001B[38;5;28;01mNone\u001B[39;00m \u001B[38;5;129;01mor\u001B[39;00m yerr \u001B[38;5;129;01mis\u001B[39;00m \u001B[38;5;129;01mnot\u001B[39;00m \u001B[38;5;28;01mNone\u001B[39;00m:\n",
      "File \u001B[0;32m~/Documents/projects/nanoGPT/.venv/lib/python3.10/site-packages/matplotlib/axes/_base.py:2446\u001B[0m, in \u001B[0;36m_AxesBase.add_patch\u001B[0;34m(self, p)\u001B[0m\n\u001B[1;32m   2444\u001B[0m \u001B[38;5;28;01mif\u001B[39;00m p\u001B[38;5;241m.\u001B[39mget_clip_path() \u001B[38;5;129;01mis\u001B[39;00m \u001B[38;5;28;01mNone\u001B[39;00m:\n\u001B[1;32m   2445\u001B[0m     p\u001B[38;5;241m.\u001B[39mset_clip_path(\u001B[38;5;28mself\u001B[39m\u001B[38;5;241m.\u001B[39mpatch)\n\u001B[0;32m-> 2446\u001B[0m \u001B[38;5;28;43mself\u001B[39;49m\u001B[38;5;241;43m.\u001B[39;49m\u001B[43m_update_patch_limits\u001B[49m\u001B[43m(\u001B[49m\u001B[43mp\u001B[49m\u001B[43m)\u001B[49m\n\u001B[1;32m   2447\u001B[0m \u001B[38;5;28mself\u001B[39m\u001B[38;5;241m.\u001B[39m_children\u001B[38;5;241m.\u001B[39mappend(p)\n\u001B[1;32m   2448\u001B[0m p\u001B[38;5;241m.\u001B[39m_remove_method \u001B[38;5;241m=\u001B[39m \u001B[38;5;28mself\u001B[39m\u001B[38;5;241m.\u001B[39m_children\u001B[38;5;241m.\u001B[39mremove\n",
      "File \u001B[0;32m~/Documents/projects/nanoGPT/.venv/lib/python3.10/site-packages/matplotlib/axes/_base.py:2477\u001B[0m, in \u001B[0;36m_AxesBase._update_patch_limits\u001B[0;34m(self, patch)\u001B[0m\n\u001B[1;32m   2474\u001B[0m \u001B[38;5;28;01mif\u001B[39;00m \u001B[38;5;28mlen\u001B[39m(vertices):\n\u001B[1;32m   2475\u001B[0m     vertices \u001B[38;5;241m=\u001B[39m np\u001B[38;5;241m.\u001B[39mvstack(vertices)\n\u001B[0;32m-> 2477\u001B[0m patch_trf \u001B[38;5;241m=\u001B[39m \u001B[43mpatch\u001B[49m\u001B[38;5;241;43m.\u001B[39;49m\u001B[43mget_transform\u001B[49m\u001B[43m(\u001B[49m\u001B[43m)\u001B[49m\n\u001B[1;32m   2478\u001B[0m updatex, updatey \u001B[38;5;241m=\u001B[39m patch_trf\u001B[38;5;241m.\u001B[39mcontains_branch_seperately(\u001B[38;5;28mself\u001B[39m\u001B[38;5;241m.\u001B[39mtransData)\n\u001B[1;32m   2479\u001B[0m \u001B[38;5;28;01mif\u001B[39;00m \u001B[38;5;129;01mnot\u001B[39;00m (updatex \u001B[38;5;129;01mor\u001B[39;00m updatey):\n",
      "File \u001B[0;32m~/Documents/projects/nanoGPT/.venv/lib/python3.10/site-packages/matplotlib/patches.py:309\u001B[0m, in \u001B[0;36mPatch.get_transform\u001B[0;34m(self)\u001B[0m\n\u001B[1;32m    307\u001B[0m \u001B[38;5;28;01mdef\u001B[39;00m\u001B[38;5;250m \u001B[39m\u001B[38;5;21mget_transform\u001B[39m(\u001B[38;5;28mself\u001B[39m):\n\u001B[1;32m    308\u001B[0m \u001B[38;5;250m    \u001B[39m\u001B[38;5;124;03m\"\"\"Return the `~.transforms.Transform` applied to the `Patch`.\"\"\"\u001B[39;00m\n\u001B[0;32m--> 309\u001B[0m     \u001B[38;5;28;01mreturn\u001B[39;00m \u001B[38;5;28;43mself\u001B[39;49m\u001B[38;5;241;43m.\u001B[39;49m\u001B[43mget_patch_transform\u001B[49m\u001B[43m(\u001B[49m\u001B[43m)\u001B[49m \u001B[38;5;241m+\u001B[39m artist\u001B[38;5;241m.\u001B[39mArtist\u001B[38;5;241m.\u001B[39mget_transform(\u001B[38;5;28mself\u001B[39m)\n",
      "File \u001B[0;32m~/Documents/projects/nanoGPT/.venv/lib/python3.10/site-packages/matplotlib/patches.py:817\u001B[0m, in \u001B[0;36mRectangle.get_patch_transform\u001B[0;34m(self)\u001B[0m\n\u001B[1;32m    811\u001B[0m \u001B[38;5;28;01melse\u001B[39;00m:\n\u001B[1;32m    812\u001B[0m     rotation_point \u001B[38;5;241m=\u001B[39m \u001B[38;5;28mself\u001B[39m\u001B[38;5;241m.\u001B[39mrotation_point\n\u001B[1;32m    813\u001B[0m \u001B[38;5;28;01mreturn\u001B[39;00m transforms\u001B[38;5;241m.\u001B[39mBboxTransformTo(bbox) \\\n\u001B[1;32m    814\u001B[0m         \u001B[38;5;241m+\u001B[39m \u001B[43mtransforms\u001B[49m\u001B[38;5;241;43m.\u001B[39;49m\u001B[43mAffine2D\u001B[49m\u001B[43m(\u001B[49m\u001B[43m)\u001B[49m\u001B[43m \u001B[49m\u001B[43m\\\u001B[49m\n\u001B[1;32m    815\u001B[0m \u001B[43m        \u001B[49m\u001B[38;5;241;43m.\u001B[39;49m\u001B[43mtranslate\u001B[49m\u001B[43m(\u001B[49m\u001B[38;5;241;43m-\u001B[39;49m\u001B[43mrotation_point\u001B[49m\u001B[43m[\u001B[49m\u001B[38;5;241;43m0\u001B[39;49m\u001B[43m]\u001B[49m\u001B[43m,\u001B[49m\u001B[43m \u001B[49m\u001B[38;5;241;43m-\u001B[39;49m\u001B[43mrotation_point\u001B[49m\u001B[43m[\u001B[49m\u001B[38;5;241;43m1\u001B[39;49m\u001B[43m]\u001B[49m\u001B[43m)\u001B[49m\u001B[43m \u001B[49m\u001B[43m\\\u001B[49m\n\u001B[1;32m    816\u001B[0m \u001B[43m        \u001B[49m\u001B[38;5;241;43m.\u001B[39;49m\u001B[43mscale\u001B[49m\u001B[43m(\u001B[49m\u001B[38;5;241;43m1\u001B[39;49m\u001B[43m,\u001B[49m\u001B[43m \u001B[49m\u001B[38;5;28;43mself\u001B[39;49m\u001B[38;5;241;43m.\u001B[39;49m\u001B[43m_aspect_ratio_correction\u001B[49m\u001B[43m)\u001B[49m\u001B[43m \u001B[49m\u001B[43m\\\u001B[49m\n\u001B[0;32m--> 817\u001B[0m \u001B[43m        \u001B[49m\u001B[38;5;241;43m.\u001B[39;49m\u001B[43mrotate_deg\u001B[49m\u001B[43m(\u001B[49m\u001B[38;5;28;43mself\u001B[39;49m\u001B[38;5;241;43m.\u001B[39;49m\u001B[43mangle\u001B[49m\u001B[43m)\u001B[49m \\\n\u001B[1;32m    818\u001B[0m         \u001B[38;5;241m.\u001B[39mscale(\u001B[38;5;241m1\u001B[39m, \u001B[38;5;241m1\u001B[39m \u001B[38;5;241m/\u001B[39m \u001B[38;5;28mself\u001B[39m\u001B[38;5;241m.\u001B[39m_aspect_ratio_correction) \\\n\u001B[1;32m    819\u001B[0m         \u001B[38;5;241m.\u001B[39mtranslate(\u001B[38;5;241m*\u001B[39mrotation_point)\n",
      "File \u001B[0;32m~/Documents/projects/nanoGPT/.venv/lib/python3.10/site-packages/matplotlib/transforms.py:2003\u001B[0m, in \u001B[0;36mAffine2D.rotate_deg\u001B[0;34m(self, degrees)\u001B[0m\n\u001B[1;32m   1995\u001B[0m \u001B[38;5;28;01mdef\u001B[39;00m\u001B[38;5;250m \u001B[39m\u001B[38;5;21mrotate_deg\u001B[39m(\u001B[38;5;28mself\u001B[39m, degrees):\n\u001B[1;32m   1996\u001B[0m \u001B[38;5;250m    \u001B[39m\u001B[38;5;124;03m\"\"\"\u001B[39;00m\n\u001B[1;32m   1997\u001B[0m \u001B[38;5;124;03m    Add a rotation (in degrees) to this transform in place.\u001B[39;00m\n\u001B[1;32m   1998\u001B[0m \n\u001B[0;32m   (...)\u001B[0m\n\u001B[1;32m   2001\u001B[0m \u001B[38;5;124;03m    and :meth:`scale`.\u001B[39;00m\n\u001B[1;32m   2002\u001B[0m \u001B[38;5;124;03m    \"\"\"\u001B[39;00m\n\u001B[0;32m-> 2003\u001B[0m     \u001B[38;5;28;01mreturn\u001B[39;00m \u001B[38;5;28;43mself\u001B[39;49m\u001B[38;5;241;43m.\u001B[39;49m\u001B[43mrotate\u001B[49m\u001B[43m(\u001B[49m\u001B[43mmath\u001B[49m\u001B[38;5;241;43m.\u001B[39;49m\u001B[43mradians\u001B[49m\u001B[43m(\u001B[49m\u001B[43mdegrees\u001B[49m\u001B[43m)\u001B[49m\u001B[43m)\u001B[49m\n",
      "File \u001B[0;32m~/Documents/projects/nanoGPT/.venv/lib/python3.10/site-packages/matplotlib/transforms.py:1981\u001B[0m, in \u001B[0;36mAffine2D.rotate\u001B[0;34m(self, theta)\u001B[0m\n\u001B[1;32m   1973\u001B[0m \u001B[38;5;250m\u001B[39m\u001B[38;5;124;03m\"\"\"\u001B[39;00m\n\u001B[1;32m   1974\u001B[0m \u001B[38;5;124;03mAdd a rotation (in radians) to this transform in place.\u001B[39;00m\n\u001B[1;32m   1975\u001B[0m \n\u001B[0;32m   (...)\u001B[0m\n\u001B[1;32m   1978\u001B[0m \u001B[38;5;124;03mand :meth:`scale`.\u001B[39;00m\n\u001B[1;32m   1979\u001B[0m \u001B[38;5;124;03m\"\"\"\u001B[39;00m\n\u001B[1;32m   1980\u001B[0m a \u001B[38;5;241m=\u001B[39m math\u001B[38;5;241m.\u001B[39mcos(theta)\n\u001B[0;32m-> 1981\u001B[0m b \u001B[38;5;241m=\u001B[39m \u001B[43mmath\u001B[49m\u001B[38;5;241;43m.\u001B[39;49m\u001B[43msin\u001B[49m\u001B[43m(\u001B[49m\u001B[43mtheta\u001B[49m\u001B[43m)\u001B[49m\n\u001B[1;32m   1982\u001B[0m mtx \u001B[38;5;241m=\u001B[39m \u001B[38;5;28mself\u001B[39m\u001B[38;5;241m.\u001B[39m_mtx\n\u001B[1;32m   1983\u001B[0m \u001B[38;5;66;03m# Operating and assigning one scalar at a time is much faster.\u001B[39;00m\n",
      "\u001B[0;31mKeyboardInterrupt\u001B[0m: "
     ]
    },
    {
     "data": {
      "text/plain": [
       "<Figure size 400x800 with 2 Axes>"
      ],
      "image/png": "[encoded data removed]"
     },
     "metadata": {},
     "output_type": "display_data",
     "jetTransient": {
      "display_id": null
     }
    },
    {
     "data": {
      "text/plain": [
       "<Figure size 640x480 with 1 Axes>"
      ],
      "image/png": "[encoded data removed]"
     },
     "metadata": {},
     "output_type": "display_data",
     "jetTransient": {
      "display_id": null
     }
    },
    {
     "data": {
      "text/plain": [
       "<Figure size 400x800 with 2 Axes>"
      ],
      "image/png": "[encoded data removed]"
     },
     "metadata": {},
     "output_type": "display_data",
     "jetTransient": {
      "display_id": null
     }
    }
   ],
   "execution_count": 74
  },
  {
   "metadata": {
    "ExecuteTime": {
     "end_time": "2025-07-24T12:26:31.912595Z",
     "start_time": "2025-07-24T12:26:31.908683Z"
    }
   },
   "cell_type": "code",
   "source": [
    " t_explore = 3\n",
    " print(torch.sum(torch.sort(probs_sim_t_run[0, t_explore, :], dim=0).values))\n",
    " print(torch.sort(probs_sim_t_run[0, t_explore, :], dim=0).values)"
   ],
   "outputs": [
    {
     "name": "stdout",
     "output_type": "stream",
     "text": [
      "tensor(1.)\n",
      "tensor([9.1349e-39, 1.6359e-37, 4.8521e-37,  ..., 6.9391e-19, 4.5042e-15,\n",
      "        1.0000e+00])\n"
     ]
    }
   ],
   "execution_count": 116
  },
  {
   "metadata": {
    "ExecuteTime": {
     "end_time": "2025-07-24T12:27:58.974458Z",
     "start_time": "2025-07-24T12:27:58.969573Z"
    }
   },
   "cell_type": "code",
   "source": "W_k",
   "outputs": [
    {
     "data": {
      "text/plain": [
       "tensor([[ 0.1195, -0.0350, -0.1468,  ...,  0.0646,  0.0536, -0.2039],\n",
       "        [ 0.0815,  0.0439, -0.0554,  ..., -0.0144, -0.0340, -0.0111],\n",
       "        [ 0.0699, -0.0643, -0.1569,  ...,  0.0397, -0.0884,  0.0033]])"
      ]
     },
     "execution_count": 121,
     "metadata": {},
     "output_type": "execute_result"
    }
   ],
   "execution_count": 121
  },
  {
   "metadata": {
    "ExecuteTime": {
     "end_time": "2025-07-24T12:28:07.745742Z",
     "start_time": "2025-07-24T12:28:07.740092Z"
    }
   },
   "cell_type": "code",
   "source": "W_q",
   "outputs": [
    {
     "data": {
      "text/plain": [
       "tensor([[ 0.1195, -0.0350, -0.1468,  ...,  0.0646,  0.0536, -0.2039],\n",
       "        [ 0.0815,  0.0439, -0.0554,  ..., -0.0144, -0.0340, -0.0111],\n",
       "        [ 0.0699, -0.0643, -0.1569,  ...,  0.0397, -0.0884,  0.0033]])"
      ]
     },
     "execution_count": 122,
     "metadata": {},
     "output_type": "execute_result"
    }
   ],
   "execution_count": 122
  },
  {
   "metadata": {},
   "cell_type": "markdown",
   "source": "Plot just the average of the simulated trajectory"
  },
  {
   "metadata": {
    "ExecuteTime": {
     "end_time": "2025-07-24T12:26:32.242457Z",
     "start_time": "2025-07-24T12:26:32.024225Z"
    }
   },
   "cell_type": "code",
   "source": [
    "tag = \"k\"\n",
    "if patterns_from_vocab:\n",
    "    patterns_str = \"VocabPatts\"\n",
    "else:\n",
    "    patterns_str = \"GaussianPatts\"\n",
    "\n",
    "stats = [tok_stats_sim_avg @ W_k.T]\n",
    "# stats = [stat[num_patterns:num_patterns*3] for stat in stats]\n",
    "label = [\"Ori\"]\n",
    "line = [\"-\"]\n",
    "title = rf\"{tag} $s$={seed} $\\beta$={beta} n_trials={num_trials} {patterns_str} N={token_size} M={num_patterns} V={emb_size}\"\n",
    "subplot_trajectories(stats, label, line, title, \"k\", random_feats=False, max_feats_show=3)"
   ],
   "outputs": [
    {
     "data": {
      "text/plain": [
       "<Figure size 640x480 with 3 Axes>"
      ],
      "image/png": "[encoded data removed]"
     },
     "metadata": {},
     "output_type": "display_data"
    }
   ],
   "execution_count": 117
  },
  {
   "metadata": {
    "ExecuteTime": {
     "end_time": "2025-07-24T12:26:32.285616Z",
     "start_time": "2025-07-24T12:26:32.281859Z"
    }
   },
   "cell_type": "code",
   "source": "stats",
   "outputs": [
    {
     "data": {
      "text/plain": [
       "[tensor([[0.2482, 5.7010, 1.0262],\n",
       "         [0.2496, 5.7001, 1.0272],\n",
       "         [0.2531, 5.6992, 1.0277],\n",
       "         [0.2555, 5.6989, 1.0279],\n",
       "         [0.2565, 5.6984, 1.0281]])]"
      ]
     },
     "execution_count": 118,
     "metadata": {},
     "output_type": "execute_result"
    }
   ],
   "execution_count": 118
  },
  {
   "metadata": {},
   "cell_type": "markdown",
   "source": "Now compare with MF"
  },
  {
   "metadata": {
    "ExecuteTime": {
     "end_time": "2025-07-24T12:26:32.626556Z",
     "start_time": "2025-07-24T12:26:32.391762Z"
    }
   },
   "cell_type": "code",
   "source": [
    "# stats = [tok_stats_sim_avg @ W_k.T,  stats_k_mf, stats_k_mf_m3, tok_stats_sim_avg_m4 @ W_k.T]\n",
    "# label = [\"Sim\", \"MFk\", \"MFk (FromSim)\", \"Sim (FromMF)\"]\n",
    "# line = [\"-\", \"-.\", \"--\", \":\"]\n",
    "\n",
    "stats = [tok_stats_sim_avg @ W_k.T,  stats_k_mf, stats_k_mf_m3]\n",
    "label = [\"Sim\", \"MFk\", \"MFk (FromSim)\"]\n",
    "line = [\"-\", \"-.\", \"--\"]\n",
    "\n",
    "subplot_trajectories(stats, label, line, title, \"k\", random_feats=True)"
   ],
   "outputs": [
    {
     "data": {
      "text/plain": [
       "<Figure size 640x480 with 3 Axes>"
      ],
      "image/png": "[encoded data removed]"
     },
     "metadata": {},
     "output_type": "display_data"
    }
   ],
   "execution_count": 119
  },
  {
   "metadata": {
    "ExecuteTime": {
     "end_time": "2025-07-24T12:26:32.848779Z",
     "start_time": "2025-07-24T12:26:32.676460Z"
    }
   },
   "cell_type": "code",
   "source": "tok_stats_sim_avg_m4.shape",
   "outputs": [
    {
     "ename": "NameError",
     "evalue": "name 'tok_stats_sim_avg_m4' is not defined",
     "output_type": "error",
     "traceback": [
      "\u001B[0;31m---------------------------------------------------------------------------\u001B[0m",
      "\u001B[0;31mNameError\u001B[0m                                 Traceback (most recent call last)",
      "Cell \u001B[0;32mIn[120], line 1\u001B[0m\n\u001B[0;32m----> 1\u001B[0m \u001B[43mtok_stats_sim_avg_m4\u001B[49m\u001B[38;5;241m.\u001B[39mshape\n",
      "\u001B[0;31mNameError\u001B[0m: name 'tok_stats_sim_avg_m4' is not defined"
     ]
    }
   ],
   "execution_count": 120
  },
  {
   "metadata": {},
   "cell_type": "markdown",
   "source": "Show the marginal distribution for the Gaussians of $q_t$ for the simulated and approximated model"
  },
  {
   "metadata": {
    "ExecuteTime": {
     "end_time": "2025-07-24T08:30:21.221405Z",
     "start_time": "2025-07-24T08:30:20.973056Z"
    }
   },
   "cell_type": "code",
   "source": [
    "for t in timesteps_to_examine:\n",
    "    # mean and cov for the simulated model\n",
    "    q_t = tok_stats_sim[:,t,:] @ W_q.T\n",
    "    q_sim_mean_t = torch.mean(q_t, dim=0)\n",
    "    q_sim_cov_t = torch.cov(q_t.T)\n",
    "\n",
    "    # Add small perturbation to the covariance matrix to force it being positive definite\n",
    "    diag = torch.diag(torch.ones(num_patterns, num_patterns), diagonal=0) * 10**(-5)\n",
    "    q_sim_cov_t += diag\n",
    "\n",
    "    # # Same for the simulation from the previous MF calculations\n",
    "    # q_t_m4 = tok_stats_sim_m4[:,t,:] @ W_q.T\n",
    "    # q_sim_mean_t_m4 = torch.mean(q_t_m4, dim=0)\n",
    "    # q_sim_cov_t_m4 = torch.cov(q_t_m4.T)\n",
    "    #\n",
    "    # # Add small perturbation to the covariance matrix to force it being positive definite\n",
    "    # q_sim_cov_t_m4 += diag\n",
    "\n",
    "\n",
    "    print(\"t\", t)\n",
    "    print(\"q sim\", q_sim_mean_t)\n",
    "    print(\"q mf\", q_mf_t[t])\n",
    "    print(\"q sim cov\", q_sim_cov_t)\n",
    "    print(\"q mf cov\", q_mf_cov_t[t])\n",
    "\n",
    "    # Grid config\n",
    "    num_elems_grid = 2000\n",
    "    if t == 0:\n",
    "        grid_width = 0.005\n",
    "    elif t == 2:\n",
    "        grid_width = 0.5\n",
    "    else:\n",
    "        grid_width = 2\n",
    "    grid = torch.linspace(-grid_width, grid_width, num_elems_grid)  # adjust range if mean is far from 0\n",
    "\n",
    "\n",
    "    # Plot\n",
    "    fig, axes = plt.subplots(1, 3)\n",
    "\n",
    "    for i in range(3):\n",
    "\n",
    "        dist_sim = torch.distributions.Normal(loc=q_sim_mean_t[i], scale=q_sim_cov_t[i,i])\n",
    "\n",
    "        # dist_sim_mf_m4 = torch.distributions.Normal(loc=q_sim_mean_t_m4[i], scale=q_sim_cov_t_m4[i,i])\n",
    "\n",
    "\n",
    "        # Distribution for the approximated model\n",
    "        dist_mf = torch.distributions.Normal(loc=q_mf_t[t,i], scale=q_mf_cov_t[t,i,i])\n",
    "\n",
    "        dist_mf_m3 = torch.distributions.Normal(loc=q_mf_t_m3[timesteps_to_examine[t],i], scale=q_mf_cov_t_m3[timesteps_to_examine[t],i,i])\n",
    "\n",
    "\n",
    "        # Simulated model\n",
    "        # Prepare input: all means, but vary the selected dimension\n",
    "        x_sim = q_sim_mean_t[i] + grid #  vary selected dimension, center on mean\n",
    "\n",
    "        logp_sim = dist_sim.log_prob(x_sim)\n",
    "        p_sim = torch.exp(logp_sim).numpy()\n",
    "\n",
    "        # # Simulated model from MF\n",
    "        #\n",
    "        # x_sim_mf_m4 = q_sim_mean_t_m4[i] + grid #  vary selected dimension, center on mean\n",
    "        #\n",
    "        # logp_sim_mf_m4 = dist_sim.log_prob(x_sim_mf_m4)\n",
    "        # p_sim_mf_m4 = torch.exp(logp_sim_mf_m4).numpy()\n",
    "\n",
    "        # Approximated model\n",
    "        # Prepare input: all means, but vary the selected dimension\n",
    "        x_mf = q_mf_t[t,i] + grid  # vary selected dimension, center on mean\n",
    "\n",
    "        logp_mf = dist_mf.log_prob(x_mf)\n",
    "        p_mf = torch.exp(logp_mf).numpy()\n",
    "\n",
    "        x_mf_m3 = q_mf_t_m3[timesteps_to_examine[t], i] + grid  # vary selected dimension, center on mean\n",
    "\n",
    "        logp_mf_m3 = dist_mf_m3.log_prob(x_mf_m3)\n",
    "        p_mf_m3 = torch.exp(logp_mf_m3).numpy()\n",
    "\n",
    "\n",
    "        axes[i].plot(x_sim, p_sim, label=f'Sim', color='steelblue')\n",
    "        axes[i].plot(x_mf, p_mf, \"--\", label=f'MF', color='darkseagreen')\n",
    "        axes[i].plot(x_mf_m3, p_mf_m3, \"-.\", label=f'MF (FS)', color='chocolate')\n",
    "        # axes[i].plot(x_sim_mf_m4, p_sim_mf_m4, \":\", label=f'Sim (MF)', color='mediumorchid')\n",
    "        axes[i].set_title(f'Dim {i}')\n",
    "        axes[i].set_xlabel('Value')\n",
    "        axes[i].set_ylabel('Density')\n",
    "\n",
    "        if i == 0:\n",
    "            axes[i].legend(loc=\"upper right\")\n",
    "\n",
    "    fig.suptitle(rf\"Marginal Density t={timesteps_to_examine[t]} $\\beta$={beta}\")\n",
    "\n",
    "    print()"
   ],
   "outputs": [
    {
     "name": "stdout",
     "output_type": "stream",
     "text": [
      "t 0\n",
      "q sim tensor([1.8632, 0.9355, 2.1984])\n",
      "q mf tensor([1.8632, 0.9355, 2.1984])\n",
      "q sim cov tensor([[1.0000e-05, 1.0000e-05, 1.0000e-05],\n",
      "        [1.0000e-05, 1.0000e-05, 1.0000e-05],\n",
      "        [1.0000e-05, 1.0000e-05, 1.0000e-05]])\n",
      "q mf cov tensor([[0.0000e+00, 0.0000e+00, 0.0000e+00],\n",
      "        [0.0000e+00, 3.1974e-14, 4.2633e-14],\n",
      "        [0.0000e+00, 4.2633e-14, 5.6843e-14]])\n"
     ]
    },
    {
     "ename": "ValueError",
     "evalue": "Expected parameter scale (Tensor of shape ()) of distribution Normal(loc: 1.863187551498413, scale: 0.0) to satisfy the constraint GreaterThan(lower_bound=0.0), but found invalid values:\n0.0",
     "output_type": "error",
     "traceback": [
      "\u001B[0;31m---------------------------------------------------------------------------\u001B[0m",
      "\u001B[0;31mValueError\u001B[0m                                Traceback (most recent call last)",
      "Cell \u001B[0;32mIn[34], line 48\u001B[0m\n\u001B[1;32m     42\u001B[0m dist_sim \u001B[38;5;241m=\u001B[39m torch\u001B[38;5;241m.\u001B[39mdistributions\u001B[38;5;241m.\u001B[39mNormal(loc\u001B[38;5;241m=\u001B[39mq_sim_mean_t[i], scale\u001B[38;5;241m=\u001B[39mq_sim_cov_t[i,i])\n\u001B[1;32m     44\u001B[0m \u001B[38;5;66;03m# dist_sim_mf_m4 = torch.distributions.Normal(loc=q_sim_mean_t_m4[i], scale=q_sim_cov_t_m4[i,i])\u001B[39;00m\n\u001B[1;32m     45\u001B[0m \n\u001B[1;32m     46\u001B[0m \n\u001B[1;32m     47\u001B[0m \u001B[38;5;66;03m# Distribution for the approximated model\u001B[39;00m\n\u001B[0;32m---> 48\u001B[0m dist_mf \u001B[38;5;241m=\u001B[39m \u001B[43mtorch\u001B[49m\u001B[38;5;241;43m.\u001B[39;49m\u001B[43mdistributions\u001B[49m\u001B[38;5;241;43m.\u001B[39;49m\u001B[43mNormal\u001B[49m\u001B[43m(\u001B[49m\u001B[43mloc\u001B[49m\u001B[38;5;241;43m=\u001B[39;49m\u001B[43mq_mf_t\u001B[49m\u001B[43m[\u001B[49m\u001B[43mt\u001B[49m\u001B[43m,\u001B[49m\u001B[43mi\u001B[49m\u001B[43m]\u001B[49m\u001B[43m,\u001B[49m\u001B[43m \u001B[49m\u001B[43mscale\u001B[49m\u001B[38;5;241;43m=\u001B[39;49m\u001B[43mq_mf_cov_t\u001B[49m\u001B[43m[\u001B[49m\u001B[43mt\u001B[49m\u001B[43m,\u001B[49m\u001B[43mi\u001B[49m\u001B[43m,\u001B[49m\u001B[43mi\u001B[49m\u001B[43m]\u001B[49m\u001B[43m)\u001B[49m\n\u001B[1;32m     50\u001B[0m dist_mf_m3 \u001B[38;5;241m=\u001B[39m torch\u001B[38;5;241m.\u001B[39mdistributions\u001B[38;5;241m.\u001B[39mNormal(loc\u001B[38;5;241m=\u001B[39mq_mf_t_m3[timesteps_to_examine[t],i], scale\u001B[38;5;241m=\u001B[39mq_mf_cov_t_m3[timesteps_to_examine[t],i,i])\n\u001B[1;32m     53\u001B[0m \u001B[38;5;66;03m# Simulated model\u001B[39;00m\n\u001B[1;32m     54\u001B[0m \u001B[38;5;66;03m# Prepare input: all means, but vary the selected dimension\u001B[39;00m\n",
      "File \u001B[0;32m~/Documents/projects/nanoGPT/.venv/lib/python3.10/site-packages/torch/distributions/normal.py:59\u001B[0m, in \u001B[0;36mNormal.__init__\u001B[0;34m(self, loc, scale, validate_args)\u001B[0m\n\u001B[1;32m     57\u001B[0m \u001B[38;5;28;01melse\u001B[39;00m:\n\u001B[1;32m     58\u001B[0m     batch_shape \u001B[38;5;241m=\u001B[39m \u001B[38;5;28mself\u001B[39m\u001B[38;5;241m.\u001B[39mloc\u001B[38;5;241m.\u001B[39msize()\n\u001B[0;32m---> 59\u001B[0m \u001B[38;5;28;43msuper\u001B[39;49m\u001B[43m(\u001B[49m\u001B[43m)\u001B[49m\u001B[38;5;241;43m.\u001B[39;49m\u001B[38;5;21;43m__init__\u001B[39;49m\u001B[43m(\u001B[49m\u001B[43mbatch_shape\u001B[49m\u001B[43m,\u001B[49m\u001B[43m \u001B[49m\u001B[43mvalidate_args\u001B[49m\u001B[38;5;241;43m=\u001B[39;49m\u001B[43mvalidate_args\u001B[49m\u001B[43m)\u001B[49m\n",
      "File \u001B[0;32m~/Documents/projects/nanoGPT/.venv/lib/python3.10/site-packages/torch/distributions/distribution.py:71\u001B[0m, in \u001B[0;36mDistribution.__init__\u001B[0;34m(self, batch_shape, event_shape, validate_args)\u001B[0m\n\u001B[1;32m     69\u001B[0m         valid \u001B[38;5;241m=\u001B[39m constraint\u001B[38;5;241m.\u001B[39mcheck(value)\n\u001B[1;32m     70\u001B[0m         \u001B[38;5;28;01mif\u001B[39;00m \u001B[38;5;129;01mnot\u001B[39;00m valid\u001B[38;5;241m.\u001B[39mall():\n\u001B[0;32m---> 71\u001B[0m             \u001B[38;5;28;01mraise\u001B[39;00m \u001B[38;5;167;01mValueError\u001B[39;00m(\n\u001B[1;32m     72\u001B[0m                 \u001B[38;5;124mf\u001B[39m\u001B[38;5;124m\"\u001B[39m\u001B[38;5;124mExpected parameter \u001B[39m\u001B[38;5;132;01m{\u001B[39;00mparam\u001B[38;5;132;01m}\u001B[39;00m\u001B[38;5;124m \u001B[39m\u001B[38;5;124m\"\u001B[39m\n\u001B[1;32m     73\u001B[0m                 \u001B[38;5;124mf\u001B[39m\u001B[38;5;124m\"\u001B[39m\u001B[38;5;124m(\u001B[39m\u001B[38;5;132;01m{\u001B[39;00m\u001B[38;5;28mtype\u001B[39m(value)\u001B[38;5;241m.\u001B[39m\u001B[38;5;18m__name__\u001B[39m\u001B[38;5;132;01m}\u001B[39;00m\u001B[38;5;124m of shape \u001B[39m\u001B[38;5;132;01m{\u001B[39;00m\u001B[38;5;28mtuple\u001B[39m(value\u001B[38;5;241m.\u001B[39mshape)\u001B[38;5;132;01m}\u001B[39;00m\u001B[38;5;124m) \u001B[39m\u001B[38;5;124m\"\u001B[39m\n\u001B[1;32m     74\u001B[0m                 \u001B[38;5;124mf\u001B[39m\u001B[38;5;124m\"\u001B[39m\u001B[38;5;124mof distribution \u001B[39m\u001B[38;5;132;01m{\u001B[39;00m\u001B[38;5;28mrepr\u001B[39m(\u001B[38;5;28mself\u001B[39m)\u001B[38;5;132;01m}\u001B[39;00m\u001B[38;5;124m \u001B[39m\u001B[38;5;124m\"\u001B[39m\n\u001B[1;32m     75\u001B[0m                 \u001B[38;5;124mf\u001B[39m\u001B[38;5;124m\"\u001B[39m\u001B[38;5;124mto satisfy the constraint \u001B[39m\u001B[38;5;132;01m{\u001B[39;00m\u001B[38;5;28mrepr\u001B[39m(constraint)\u001B[38;5;132;01m}\u001B[39;00m\u001B[38;5;124m, \u001B[39m\u001B[38;5;124m\"\u001B[39m\n\u001B[1;32m     76\u001B[0m                 \u001B[38;5;124mf\u001B[39m\u001B[38;5;124m\"\u001B[39m\u001B[38;5;124mbut found invalid values:\u001B[39m\u001B[38;5;130;01m\\n\u001B[39;00m\u001B[38;5;132;01m{\u001B[39;00mvalue\u001B[38;5;132;01m}\u001B[39;00m\u001B[38;5;124m\"\u001B[39m\n\u001B[1;32m     77\u001B[0m             )\n\u001B[1;32m     78\u001B[0m \u001B[38;5;28msuper\u001B[39m()\u001B[38;5;241m.\u001B[39m\u001B[38;5;21m__init__\u001B[39m()\n",
      "\u001B[0;31mValueError\u001B[0m: Expected parameter scale (Tensor of shape ()) of distribution Normal(loc: 1.863187551498413, scale: 0.0) to satisfy the constraint GreaterThan(lower_bound=0.0), but found invalid values:\n0.0"
     ]
    },
    {
     "data": {
      "text/plain": [
       "<Figure size 640x480 with 3 Axes>"
      ],
      "image/png": "[encoded data removed]"
     },
     "metadata": {},
     "output_type": "display_data"
    }
   ],
   "execution_count": 34
  },
  {
   "metadata": {},
   "cell_type": "markdown",
   "source": "### Compute error for different betas"
  },
  {
   "metadata": {
    "ExecuteTime": {
     "end_time": "2025-07-30T04:40:19.696100Z",
     "start_time": "2025-07-29T22:11:05.607329Z"
    }
   },
   "cell_type": "code",
   "source": [
    "num_betas = 35\n",
    "beta_list = torch.linspace(0, 0.25, num_betas)\n",
    "# beta_list = [2.25, 2.5]\n",
    "\n",
    "sim_mf_rmse = torch.zeros(len(beta_list))\n",
    "sim_mf_sim_rmse = torch.zeros(len(beta_list))\n",
    "sim_sim_mf_rmse = torch.zeros(len(beta_list))\n",
    "\n",
    "timestep_to_examine = 2\n",
    "sim_mf_rmse_step = torch.zeros(len(beta_list))\n",
    "sim_mf_sim_rmse_step = torch.zeros(len(beta_list))\n",
    "sim_sim_mf_rmse_step = torch.zeros(len(beta_list))\n",
    "\n",
    "sim_norm_q_mean = torch.zeros(len(beta_list))\n",
    "sim_mf_norm_q_mean = torch.zeros(len(beta_list))\n",
    "sim_mf_sim_norm_q_mean = torch.zeros(len(beta_list))\n",
    "sim_sim_mf_norm_q_mean = torch.zeros(len(beta_list))\n",
    "\n",
    "sim_cov_q_mean = torch.zeros(len(beta_list))\n",
    "sim_mf_cov_q_mean = torch.zeros(len(beta_list))\n",
    "sim_mf_sim_cov_q_mean = torch.zeros(len(beta_list))\n",
    "sim_sim_mf_cov_q_mean = torch.zeros(len(beta_list))\n",
    "\n",
    "for b in range(len(beta_list)):\n",
    "    # For each beta, compute the four methods\n",
    "\n",
    "    print(f\"beta = {beta_list[b]}\")\n",
    "\n",
    "    # Simulation\n",
    "    tok_stats_sim, idxs, probs_sim_t_run, probs_sim_t_mean = simulate(beta_list[b])\n",
    "    tok_stats_sim_avg = torch.mean(tok_stats_sim, dim=0)\n",
    "    stats_k_sim = tok_stats_sim_avg @ W_k.T\n",
    "    stats_q_sim = tok_stats_sim_avg @ W_q.T\n",
    "    sim_norm_q_mean[b] = torch.mean(torch.norm(stats_q_sim, dim=1))\n",
    "    sim_mean_q_centered = (tok_stats_sim @ W_q.T) - stats_q_sim\n",
    "    sim_mean_q_centered = sim_mean_q_centered.transpose(0, 1) # shape: [T, N, M]\n",
    "    sim_cov_q = torch.matmul(sim_mean_q_centered.transpose(1, 2), sim_mean_q_centered) / (num_trials - 1)  # shape: [T, M, M]# shape: [T, N, M]\n",
    "    sim_cov_q_mean[b] = torch.mean(sim_cov_q)\n",
    "\n",
    "    # Mean field\n",
    "    stats_k_mf, idxs_mf, probs_mf_t, q_mf_t, q_mf_cov_t = simulate_mf(beta_list[b])\n",
    "    sim_mf_norm_q_mean[b] = torch.mean(torch.norm(q_mf_t, dim=1))\n",
    "    sim_mf_cov_q_mean[b] = torch.mean(q_mf_cov_t)\n",
    "\n",
    "\n",
    "    # Mean field from the simulation stats\n",
    "    stats_k_mf_m3, idxs_mf_m3, probs_mf_t_m3, q_mf_t_m3, q_mf_cov_t_m3 = simulate_mf_from_sim(tok_stats_sim, beta_list[b])\n",
    "    sim_mf_sim_norm_q_mean[b] = torch.mean(torch.norm(q_mf_t_m3, dim=1))\n",
    "    sim_mf_sim_cov_q_mean[b] = torch.mean(q_mf_cov_t_m3)\n",
    "\n",
    "    # # Simulation from the mean-field experiment\n",
    "    # tok_stats_sim_m4, idxs_m4, probs_sim_t_mean_m4 = simulate_sim_from_mf(q_mf_t, q_mf_cov_t, beta, diag_prod=10**-3)\n",
    "    # tok_stats_sim_avg_m4 = torch.mean(tok_stats_sim_m4, dim=0)\n",
    "    # stats_k_sim_m4 = tok_stats_sim_avg_m4 @ W_k.T\n",
    "\n",
    "    sim_mf_rmse[b] =  torch.mean((stats_k_sim - stats_k_mf)**2)\n",
    "    sim_mf_sim_rmse[b] =  torch.mean((stats_k_sim - stats_k_mf_m3)**2)\n",
    "    # sim_sim_mf_rmse[b] =  torch.mean((stats_k_sim - stats_k_sim_m4)**2)\n",
    "\n",
    "    sim_mf_rmse_step[b] =  torch.mean((stats_k_sim[timestep_to_examine] - stats_k_mf[timestep_to_examine])**2)\n",
    "    sim_mf_sim_rmse_step[b] =  torch.mean((stats_k_sim[timestep_to_examine] - stats_k_mf_m3[timestep_to_examine])**2)\n",
    "    # sim_sim_mf_rmse_step[b] =  torch.mean((stats_k_sim[timestep_to_examine] - stats_k_sim_m4[timestep_to_examine])**2)\n",
    "\n",
    "# Compute the square\n",
    "sim_mf_rmse = torch.sqrt(sim_mf_rmse)\n",
    "sim_mf_sim_rmse = torch.sqrt(sim_mf_sim_rmse)\n",
    "# sim_sim_mf_rmse = torch.sqrt(sim_sim_mf_rmse)\n",
    "\n",
    "sim_mf_rmse_step = torch.sqrt(sim_mf_rmse_step)\n",
    "sim_mf_sim_rmse_step = torch.sqrt(sim_mf_sim_rmse_step)\n",
    "# sim_sim_mf_rmse_step = torch.sqrt(sim_sim_mf_rmse_step)\n",
    "\n",
    "plt.figure()\n",
    "plt.plot(beta_list, sim_mf_rmse, label='MF')\n",
    "plt.plot(beta_list, sim_mf_sim_rmse, label='MF (FS)')\n",
    "plt.legend()\n",
    "# plt.plot(beta_list, sim_sim_mf_rmse, label='Sim (MF)')\n",
    "plt.ylabel('RMSE')\n",
    "plt.xlabel(r'$\\beta$')\n",
    "plt.title(f\"All steps.  token_size={token_size} n_trials={num_trials}\")\n",
    "\n",
    "\n",
    "plt.figure()\n",
    "plt.plot(beta_list, sim_mf_rmse_step, label='MF')\n",
    "plt.plot(beta_list, sim_mf_sim_rmse_step, label='MF (FS)')\n",
    "plt.legend()\n",
    "# plt.plot(beta_list, sim_sim_mf_rmse, label='Sim (MF)')\n",
    "plt.ylabel('RMSE')\n",
    "plt.xlabel(r'$\\beta$')\n",
    "plt.title(f\"Just step {timestep_to_examine}. token_size={token_size} n_trials={num_trials}\")\n",
    "\n",
    "fig = plt.figure()\n",
    "plt.plot(beta_list, sim_norm_q_mean, label=\"Sim\")\n",
    "plt.plot(beta_list, sim_mf_norm_q_mean, label=\"MF\")\n",
    "plt.plot(beta_list, sim_mf_sim_norm_q_mean, label=\"MF (FS)\")\n",
    "plt.ylabel(fr\"$\\langle |q| \\rangle_t$\")\n",
    "plt.xlabel(r'$\\beta$')\n",
    "plt.legend()\n",
    "plt.title(f\"token_size={token_size} n_trials={num_trials}\")\n",
    "\n",
    "\n",
    "fig = plt.figure()\n",
    "plt.plot(beta_list, sim_cov_q_mean, label=\"Sim\")\n",
    "plt.plot(beta_list, sim_mf_cov_q_mean, label=\"MF\")\n",
    "plt.plot(beta_list, sim_mf_sim_cov_q_mean, label=\"MF (FS)\")\n",
    "plt.ylabel(fr\"$\\langle \\Sigma \\rangle_t$\")\n",
    "plt.xlabel(r'$\\beta$')\n",
    "plt.legend()\n",
    "plt.title(f\"token_size={token_size} n_trials={num_trials}\")\n",
    "\n"
   ],
   "outputs": [
    {
     "name": "stdout",
     "output_type": "stream",
     "text": [
      "beta = 0.0\n",
      "Simulation. Time elapsed: 670.84 seconds\n",
      "MF\n",
      "MF from simulation stats\n",
      "beta = 0.007352941203862429\n",
      "Simulation. Time elapsed: 664.39 seconds\n",
      "MF\n",
      "MF from simulation stats\n",
      "beta = 0.014705882407724857\n",
      "Simulation. Time elapsed: 666.67 seconds\n",
      "MF\n",
      "MF from simulation stats\n",
      "beta = 0.022058824077248573\n",
      "Simulation. Time elapsed: 667.42 seconds\n",
      "MF\n",
      "MF from simulation stats\n",
      "beta = 0.029411764815449715\n",
      "Simulation. Time elapsed: 668.19 seconds\n",
      "MF\n",
      "MF from simulation stats\n",
      "beta = 0.036764707416296005\n",
      "Simulation. Time elapsed: 665.08 seconds\n",
      "MF\n",
      "MF from simulation stats\n",
      "beta = 0.04411764815449715\n",
      "Simulation. Time elapsed: 665.35 seconds\n",
      "MF\n",
      "MF from simulation stats\n",
      "beta = 0.05147058889269829\n",
      "Simulation. Time elapsed: 666.75 seconds\n",
      "MF\n",
      "MF from simulation stats\n",
      "beta = 0.05882352963089943\n",
      "Simulation. Time elapsed: 667.75 seconds\n",
      "MF\n",
      "MF from simulation stats\n",
      "beta = 0.06617647409439087\n",
      "Simulation. Time elapsed: 666.45 seconds\n",
      "MF\n",
      "MF from simulation stats\n",
      "beta = 0.07352941483259201\n",
      "Simulation. Time elapsed: 665.17 seconds\n",
      "MF\n",
      "MF from simulation stats\n",
      "beta = 0.08088235557079315\n",
      "Simulation. Time elapsed: 663.75 seconds\n",
      "MF\n",
      "MF from simulation stats\n",
      "beta = 0.0882352963089943\n",
      "Simulation. Time elapsed: 666.67 seconds\n",
      "MF\n",
      "MF from simulation stats\n",
      "beta = 0.09558823704719543\n",
      "Simulation. Time elapsed: 667.09 seconds\n",
      "MF\n",
      "MF from simulation stats\n",
      "beta = 0.10294117778539658\n",
      "Simulation. Time elapsed: 665.37 seconds\n",
      "MF\n",
      "MF from simulation stats\n",
      "beta = 0.11029411852359772\n",
      "Simulation. Time elapsed: 665.75 seconds\n",
      "MF\n",
      "MF from simulation stats\n",
      "beta = 0.11764705926179886\n",
      "Simulation. Time elapsed: 667.71 seconds\n",
      "MF\n",
      "MF from simulation stats\n",
      "beta = 0.125\n",
      "Simulation. Time elapsed: 662.85 seconds\n",
      "MF\n",
      "MF from simulation stats\n",
      "beta = 0.13235294818878174\n",
      "Simulation. Time elapsed: 663.69 seconds\n",
      "MF\n",
      "MF from simulation stats\n",
      "beta = 0.13970588147640228\n",
      "Simulation. Time elapsed: 663.19 seconds\n",
      "MF\n",
      "MF from simulation stats\n",
      "beta = 0.14705882966518402\n",
      "Simulation. Time elapsed: 662.54 seconds\n",
      "MF\n",
      "MF from simulation stats\n",
      "beta = 0.15441176295280457\n",
      "Simulation. Time elapsed: 665.77 seconds\n",
      "MF\n",
      "MF from simulation stats\n",
      "beta = 0.1617647111415863\n",
      "Simulation. Time elapsed: 665.68 seconds\n",
      "MF\n",
      "MF from simulation stats\n",
      "beta = 0.16911764442920685\n",
      "Simulation. Time elapsed: 663.56 seconds\n",
      "MF\n",
      "MF from simulation stats\n",
      "beta = 0.1764705926179886\n",
      "Simulation. Time elapsed: 667.86 seconds\n",
      "MF\n",
      "MF from simulation stats\n",
      "beta = 0.18382352590560913\n",
      "Simulation. Time elapsed: 663.81 seconds\n",
      "MF\n",
      "MF from simulation stats\n",
      "beta = 0.19117647409439087\n",
      "Simulation. Time elapsed: 665.54 seconds\n",
      "MF\n",
      "MF from simulation stats\n",
      "beta = 0.1985294073820114\n",
      "Simulation. Time elapsed: 664.32 seconds\n",
      "MF\n",
      "MF from simulation stats\n",
      "beta = 0.20588235557079315\n",
      "Simulation. Time elapsed: 665.74 seconds\n",
      "MF\n",
      "MF from simulation stats\n",
      "beta = 0.2132352888584137\n",
      "Simulation. Time elapsed: 662.04 seconds\n",
      "MF\n",
      "MF from simulation stats\n",
      "beta = 0.22058823704719543\n",
      "Simulation. Time elapsed: 666.02 seconds\n",
      "MF\n",
      "MF from simulation stats\n",
      "beta = 0.22794117033481598\n",
      "Simulation. Time elapsed: 663.81 seconds\n",
      "MF\n",
      "MF from simulation stats\n",
      "beta = 0.23529411852359772\n",
      "Simulation. Time elapsed: 661.34 seconds\n",
      "MF\n",
      "MF from simulation stats\n",
      "beta = 0.24264705181121826\n",
      "Simulation. Time elapsed: 665.02 seconds\n",
      "MF\n",
      "MF from simulation stats\n",
      "beta = 0.25\n",
      "Simulation. Time elapsed: 665.86 seconds\n",
      "MF\n",
      "MF from simulation stats\n"
     ]
    },
    {
     "data": {
      "text/plain": [
       "Text(0.5, 1.0, 'token_size=750 n_trials=200000')"
      ]
     },
     "execution_count": 21,
     "metadata": {},
     "output_type": "execute_result"
    },
    {
     "data": {
      "text/plain": [
       "<Figure size 640x480 with 1 Axes>"
      ],
      "image/png": "[encoded data removed]"
     },
     "metadata": {},
     "output_type": "display_data"
    },
    {
     "data": {
      "text/plain": [
       "<Figure size 640x480 with 1 Axes>"
      ],
      "image/png": "[encoded data removed]"
     },
     "metadata": {},
     "output_type": "display_data"
    },
    {
     "data": {
      "text/plain": [
       "<Figure size 640x480 with 1 Axes>"
      ],
      "image/png": "[encoded data removed]"
     },
     "metadata": {},
     "output_type": "display_data"
    },
    {
     "data": {
      "text/plain": [
       "<Figure size 640x480 with 1 Axes>"
      ],
      "image/png": "[encoded data removed]"
     },
     "metadata": {},
     "output_type": "display_data"
    }
   ],
   "execution_count": 21
  },
  {
   "metadata": {
    "ExecuteTime": {
     "end_time": "2025-07-23T19:33:47.993887Z",
     "start_time": "2025-07-23T19:33:47.989180Z"
    }
   },
   "cell_type": "code",
   "source": "sim_cov_q_mean",
   "outputs": [
    {
     "data": {
      "text/plain": [
       "tensor([3.9759e-05, 3.9759e-05, 3.9759e-05, 3.9759e-05, 3.9759e-05, 3.9759e-05,\n",
       "        3.9759e-05, 3.9759e-05, 3.9759e-05, 3.9759e-05, 3.9759e-05, 3.9759e-05,\n",
       "        3.9759e-05, 3.9759e-05, 3.9759e-05, 3.9759e-05, 3.9759e-05, 3.9759e-05,\n",
       "        3.9759e-05, 3.9759e-05, 3.9759e-05, 3.9759e-05, 3.9759e-05, 3.9759e-05,\n",
       "        3.9759e-05, 3.9759e-05, 3.9759e-05, 3.9759e-05, 3.9759e-05, 3.9759e-05])"
      ]
     },
     "execution_count": 72,
     "metadata": {},
     "output_type": "execute_result"
    }
   ],
   "execution_count": 72
  },
  {
   "metadata": {
    "ExecuteTime": {
     "end_time": "2025-07-23T19:35:28.512170Z",
     "start_time": "2025-07-23T19:35:28.508360Z"
    }
   },
   "cell_type": "code",
   "source": "torch.mean(sim_cov_q)",
   "outputs": [
    {
     "data": {
      "text/plain": [
       "tensor(3.9759e-05)"
      ]
     },
     "execution_count": 76,
     "metadata": {},
     "output_type": "execute_result"
    }
   ],
   "execution_count": 76
  },
  {
   "metadata": {
    "ExecuteTime": {
     "end_time": "2025-07-23T15:23:02.626952Z",
     "start_time": "2025-07-23T15:23:02.622127Z"
    }
   },
   "cell_type": "code",
   "source": "q_mf_cov_t",
   "outputs": [
    {
     "data": {
      "text/plain": [
       "tensor([[[ 5.6843e-14,  3.9193e-33,  2.8422e-14],\n",
       "         [ 3.9193e-33,  5.3222e-33,  1.3623e-33],\n",
       "         [ 2.8422e-14,  1.3623e-33,  1.4211e-14]],\n",
       "\n",
       "        [[ 2.0589e-03, -1.7261e-03,  2.5418e-03],\n",
       "         [-1.7261e-03,  1.4472e-03, -2.1310e-03],\n",
       "         [ 2.5418e-03, -2.1310e-03,  3.1379e-03]],\n",
       "\n",
       "        [[ 2.3577e-03, -1.9767e-03,  2.9107e-03],\n",
       "         [-1.9767e-03,  1.6572e-03, -2.4403e-03],\n",
       "         [ 2.9107e-03, -2.4403e-03,  3.5934e-03]],\n",
       "\n",
       "        [[ 5.6215e-04, -4.7130e-04,  6.9400e-04],\n",
       "         [-4.7130e-04,  3.9513e-04, -5.8184e-04],\n",
       "         [ 6.9400e-04, -5.8184e-04,  8.5679e-04]],\n",
       "\n",
       "        [[ 4.7805e-04, -4.0079e-04,  5.9018e-04],\n",
       "         [-4.0079e-04,  3.3601e-04, -4.9480e-04],\n",
       "         [ 5.9018e-04, -4.9480e-04,  7.2861e-04]]])"
      ]
     },
     "execution_count": 47,
     "metadata": {},
     "output_type": "execute_result"
    }
   ],
   "execution_count": 47
  },
  {
   "metadata": {
    "ExecuteTime": {
     "end_time": "2025-07-23T14:58:22.902316Z",
     "start_time": "2025-07-23T14:58:22.898409Z"
    }
   },
   "cell_type": "code",
   "source": "tok_stats_sim.shape",
   "outputs": [
    {
     "data": {
      "text/plain": [
       "torch.Size([20000, 5, 500])"
      ]
     },
     "execution_count": 30,
     "metadata": {},
     "output_type": "execute_result"
    }
   ],
   "execution_count": 30
  },
  {
   "metadata": {},
   "cell_type": "markdown",
   "source": "Show the conditional of the simulated and mf model for $q_t$"
  },
  {
   "metadata": {
    "ExecuteTime": {
     "end_time": "2025-07-23T14:45:39.599217562Z",
     "start_time": "2025-07-22T16:34:37.058309Z"
    }
   },
   "cell_type": "code",
   "source": [
    "# %%skip\n",
    "# for t in timesteps_to_examine:\n",
    "#     # mean and cov for the simulated model\n",
    "#     q_sim_mean_t = torch.mean(tok_stats_sim[:,t,:] @ W_q.T, dim=0)\n",
    "#     q_sim_cov_t = torch.cov((tok_stats_sim[:,t,:] @ W_q.T).T)\n",
    "#\n",
    "#     # Add small perturbation to the covariance matrix to force it being positive definite\n",
    "#     diag = torch.diag(torch.ones(num_patterns, num_patterns), diagonal=0) * 10**(-5)\n",
    "#     q_sim_cov_t += diag\n",
    "#\n",
    "#     dist_sim = torch.distributions.MultivariateNormal(loc=q_sim_mean_t, covariance_matrix=q_sim_cov_t)\n",
    "#\n",
    "#     # Distribution for the approximated model\n",
    "#     dist_mf = torch.distributions.MultivariateNormal(loc=q_mf_t[t], covariance_matrix=q_mf_cov_t[t])\n",
    "#\n",
    "#     print(\"t\", t)\n",
    "#     print(\"q sim\", q_sim_mean_t)\n",
    "#     print(\"q mf\", q_mf_t[t])\n",
    "#     print(\"q sim cov\", q_sim_cov_t)\n",
    "#     print(\"q mf cov\", q_mf_cov_t[t])\n",
    "#\n",
    "#     # Grid config\n",
    "#     num_elems_grid = 2000\n",
    "#     if t == 0:\n",
    "#         grid_width = 0.005\n",
    "#     elif t == 2:\n",
    "#         grid_width = 0.5\n",
    "#     else:\n",
    "#         grid_width = 2\n",
    "#     grid = torch.linspace(-grid_width, grid_width, num_elems_grid)  # adjust range if mean is far from 0\n",
    "#\n",
    "#\n",
    "#     # Plot\n",
    "#     fig, axes = plt.subplots(1, 3)\n",
    "#\n",
    "#     for i in range(3):\n",
    "#         # Simulated model\n",
    "#         # Prepare input: all means, but vary the selected dimension\n",
    "#         x_sim = q_sim_mean_t.repeat(len(grid), 1)  # shape: (grid_size, N)\n",
    "#         x_sim[:, i] += grid             # vary selected dimension, center on mean\n",
    "#\n",
    "#         logp_sim = dist_sim.log_prob(x_sim)\n",
    "#         p_sim = torch.exp(logp_sim).numpy()\n",
    "#\n",
    "#         # Approximated model\n",
    "#         # Prepare input: all means, but vary the selected dimension\n",
    "#         x_mf = q_mf_t[t].repeat(len(grid), 1)  # shape: (grid_size, N)\n",
    "#         x_mf[:, i] += grid             # vary selected dimension, center on mean\n",
    "#\n",
    "#         logp_mf = dist_mf.log_prob(x_mf)\n",
    "#         p_mf = torch.exp(logp_mf).numpy()\n",
    "#\n",
    "#         axes[i].plot(x_sim[:, i], p_sim, label=f'Sim', color='steelblue')\n",
    "#         axes[i].plot(x_mf[:, i], p_mf, \"--\", label=f'MF', color='darkseagreen')\n",
    "#         axes[i].set_title(f'Dim {i}')\n",
    "#         axes[i].set_xlabel('Value')\n",
    "#         axes[i].set_ylabel('Density')\n",
    "#\n",
    "#         if i == 0:\n",
    "#             axes[i].legend(loc=\"upper right\")\n",
    "#\n",
    "#     fig.suptitle(rf\"Conditional Density t={timesteps_to_examine[t]} $\\beta$={beta}\")\n"
   ],
   "outputs": [],
   "execution_count": 218
  },
  {
   "metadata": {
    "ExecuteTime": {
     "end_time": "2025-07-23T14:45:39.599512700Z",
     "start_time": "2025-07-22T16:34:37.152867Z"
    }
   },
   "cell_type": "code",
   "source": [
    "t2 = 0\n",
    "tok_stats_sim[:,t2,:] @ W_q.T"
   ],
   "outputs": [
    {
     "data": {
      "text/plain": [
       "tensor([[0.3994, 0.2599, 0.5574],\n",
       "        [0.3994, 0.2599, 0.5574],\n",
       "        [0.3994, 0.2599, 0.5574],\n",
       "        ...,\n",
       "        [0.3994, 0.2599, 0.5574],\n",
       "        [0.3994, 0.2599, 0.5574],\n",
       "        [0.3994, 0.2599, 0.5574]])"
      ]
     },
     "execution_count": 219,
     "metadata": {},
     "output_type": "execute_result"
    }
   ],
   "execution_count": 219
  },
  {
   "metadata": {
    "ExecuteTime": {
     "end_time": "2025-07-23T14:45:39.599875682Z",
     "start_time": "2025-07-22T16:34:37.273798Z"
    }
   },
   "cell_type": "code",
   "source": "",
   "outputs": [],
   "execution_count": null
  }
 ]
}
