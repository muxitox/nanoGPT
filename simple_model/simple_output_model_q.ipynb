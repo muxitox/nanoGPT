{
 "nbformat": 4,
 "nbformat_minor": 0,
 "metadata": {
  "colab": {
   "provenance": []
  },
  "kernelspec": {
   "name": "python3",
   "display_name": "Python 3"
  },
  "language_info": {
   "name": "python"
  }
 },
 "cells": [
  {
   "cell_type": "markdown",
   "source": [
    "### Clone repo to access GPT2 weights"
   ],
   "metadata": {
    "id": "j8S_lrHJBr8F"
   }
  },
  {
   "cell_type": "code",
   "source": [
    "! git clone https://github.com/muxitox/nanoGPT.git"
   ],
   "metadata": {
    "colab": {
     "base_uri": "https://localhost:8080/"
    },
    "id": "C763IoZMBh3S",
    "outputId": "9c5846e7-48f9-4be2-9f8f-7739fe179661",
    "ExecuteTime": {
     "end_time": "2025-07-14T12:50:18.575972Z",
     "start_time": "2025-07-14T12:50:16.385787Z"
    }
   },
   "outputs": [
    {
     "name": "stdout",
     "output_type": "stream",
     "text": [
      "Cloning into 'nanoGPT'...\r\n",
      "remote: Enumerating objects: 1357, done.\u001B[K\r\n",
      "remote: Counting objects: 100% (4/4), done.\u001B[K\r\n",
      "remote: Compressing objects: 100% (2/2), done.\u001B[K\r\n",
      "remote: Total 1357 (delta 2), reused 2 (delta 2), pack-reused 1353 (from 3)\u001B[K\r\n",
      "Receiving objects: 100% (1357/1357), 28.03 MiB | 21.55 MiB/s, done.\r\n",
      "Resolving deltas: 100% (656/656), done.\r\n"
     ]
    }
   ],
   "execution_count": 225
  },
  {
   "cell_type": "code",
   "source": [
    "%cd nanoGPT"
   ],
   "metadata": {
    "colab": {
     "base_uri": "https://localhost:8080/"
    },
    "id": "vNjByqN8Bl2V",
    "outputId": "c080dbce-e7c5-4271-ffa6-8936449504de",
    "ExecuteTime": {
     "end_time": "2025-07-14T12:50:18.643110Z",
     "start_time": "2025-07-14T12:50:18.640052Z"
    }
   },
   "outputs": [
    {
     "name": "stdout",
     "output_type": "stream",
     "text": [
      "/home/apoc/Documents/projects/nanoGPT/simple_model/nanoGPT/nanoGPT/nanoGPT/nanoGPT/nanoGPT/nanoGPT/nanoGPT/nanoGPT/nanoGPT\n"
     ]
    }
   ],
   "execution_count": 226
  },
  {
   "cell_type": "markdown",
   "source": [
    "### Imports"
   ],
   "metadata": {
    "id": "EWI4YoqRB4KF"
   }
  },
  {
   "cell_type": "code",
   "source": [
    "import math\n",
    "import inspect\n",
    "from dataclasses import dataclass\n",
    "\n",
    "import torch\n",
    "import torch.nn as nn\n",
    "from torch.nn import functional as F\n",
    "from model import GPTConfig, GPT\n",
    "\n",
    "import matplotlib.pyplot as plt\n",
    "import time"
   ],
   "metadata": {
    "id": "Jht17kIpBlCa",
    "ExecuteTime": {
     "end_time": "2025-07-14T12:50:18.757818Z",
     "start_time": "2025-07-14T12:50:18.755297Z"
    }
   },
   "outputs": [],
   "execution_count": 227
  },
  {
   "cell_type": "code",
   "source": [
    "!pip install ipdb\n",
    "import ipdb"
   ],
   "metadata": {
    "id": "Pu-dEJ48mbcC",
    "colab": {
     "base_uri": "https://localhost:8080/"
    },
    "outputId": "3c46b883-a8d9-4cfe-c227-ea456c80480a",
    "ExecuteTime": {
     "end_time": "2025-07-14T12:50:20.522386Z",
     "start_time": "2025-07-14T12:50:18.867291Z"
    }
   },
   "outputs": [
    {
     "name": "stdout",
     "output_type": "stream",
     "text": [
      "Requirement already satisfied: ipdb in /home/apoc/Documents/projects/nanoGPT/.venv/lib/python3.10/site-packages (0.13.13)\r\n",
      "Requirement already satisfied: ipython>=7.31.1 in /home/apoc/Documents/projects/nanoGPT/.venv/lib/python3.10/site-packages (from ipdb) (8.37.0)\r\n",
      "Requirement already satisfied: tomli in /home/apoc/Documents/projects/nanoGPT/.venv/lib/python3.10/site-packages (from ipdb) (2.2.1)\r\n",
      "Requirement already satisfied: decorator in /home/apoc/Documents/projects/nanoGPT/.venv/lib/python3.10/site-packages (from ipdb) (5.2.1)\r\n",
      "Requirement already satisfied: exceptiongroup in /home/apoc/Documents/projects/nanoGPT/.venv/lib/python3.10/site-packages (from ipython>=7.31.1->ipdb) (1.3.0)\r\n",
      "Requirement already satisfied: jedi>=0.16 in /home/apoc/Documents/projects/nanoGPT/.venv/lib/python3.10/site-packages (from ipython>=7.31.1->ipdb) (0.19.2)\r\n",
      "Requirement already satisfied: matplotlib-inline in /home/apoc/Documents/projects/nanoGPT/.venv/lib/python3.10/site-packages (from ipython>=7.31.1->ipdb) (0.1.7)\r\n",
      "Requirement already satisfied: pexpect>4.3 in /home/apoc/Documents/projects/nanoGPT/.venv/lib/python3.10/site-packages (from ipython>=7.31.1->ipdb) (4.9.0)\r\n",
      "Requirement already satisfied: prompt_toolkit<3.1.0,>=3.0.41 in /home/apoc/Documents/projects/nanoGPT/.venv/lib/python3.10/site-packages (from ipython>=7.31.1->ipdb) (3.0.51)\r\n",
      "Requirement already satisfied: pygments>=2.4.0 in /home/apoc/Documents/projects/nanoGPT/.venv/lib/python3.10/site-packages (from ipython>=7.31.1->ipdb) (2.19.2)\r\n",
      "Requirement already satisfied: stack_data in /home/apoc/Documents/projects/nanoGPT/.venv/lib/python3.10/site-packages (from ipython>=7.31.1->ipdb) (0.6.3)\r\n",
      "Requirement already satisfied: traitlets>=5.13.0 in /home/apoc/Documents/projects/nanoGPT/.venv/lib/python3.10/site-packages (from ipython>=7.31.1->ipdb) (5.14.3)\r\n",
      "Requirement already satisfied: typing_extensions>=4.6 in /home/apoc/Documents/projects/nanoGPT/.venv/lib/python3.10/site-packages (from ipython>=7.31.1->ipdb) (4.12.2)\r\n",
      "Requirement already satisfied: parso<0.9.0,>=0.8.4 in /home/apoc/Documents/projects/nanoGPT/.venv/lib/python3.10/site-packages (from jedi>=0.16->ipython>=7.31.1->ipdb) (0.8.4)\r\n",
      "Requirement already satisfied: ptyprocess>=0.5 in /home/apoc/Documents/projects/nanoGPT/.venv/lib/python3.10/site-packages (from pexpect>4.3->ipython>=7.31.1->ipdb) (0.7.0)\r\n",
      "Requirement already satisfied: wcwidth in /home/apoc/Documents/projects/nanoGPT/.venv/lib/python3.10/site-packages (from prompt_toolkit<3.1.0,>=3.0.41->ipython>=7.31.1->ipdb) (0.2.13)\r\n",
      "Requirement already satisfied: executing>=1.2.0 in /home/apoc/Documents/projects/nanoGPT/.venv/lib/python3.10/site-packages (from stack_data->ipython>=7.31.1->ipdb) (2.2.0)\r\n",
      "Requirement already satisfied: asttokens>=2.1.0 in /home/apoc/Documents/projects/nanoGPT/.venv/lib/python3.10/site-packages (from stack_data->ipython>=7.31.1->ipdb) (3.0.0)\r\n",
      "Requirement already satisfied: pure-eval in /home/apoc/Documents/projects/nanoGPT/.venv/lib/python3.10/site-packages (from stack_data->ipython>=7.31.1->ipdb) (0.2.3)\r\n",
      "\r\n",
      "\u001B[1m[\u001B[0m\u001B[34;49mnotice\u001B[0m\u001B[1;39;49m]\u001B[0m\u001B[39;49m A new release of pip is available: \u001B[0m\u001B[31;49m23.2.1\u001B[0m\u001B[39;49m -> \u001B[0m\u001B[32;49m25.1.1\u001B[0m\r\n",
      "\u001B[1m[\u001B[0m\u001B[34;49mnotice\u001B[0m\u001B[1;39;49m]\u001B[0m\u001B[39;49m To update, run: \u001B[0m\u001B[32;49mpip install --upgrade pip\u001B[0m\r\n"
     ]
    }
   ],
   "execution_count": 228
  },
  {
   "cell_type": "markdown",
   "source": [
    "### Utils"
   ],
   "metadata": {
    "id": "D5YTPbafb_QJ"
   }
  },
  {
   "cell_type": "code",
   "source": [
    "def bitfield(n, size):  # Transform positive integer into bit array\n",
    "    x = [int(x) for x in bin(int(n))[2:]]\n",
    "    x = [0] * (size - len(x)) + x\n",
    "    return torch.array(x)"
   ],
   "metadata": {
    "id": "KXuQ0Cz4cAmf",
    "ExecuteTime": {
     "end_time": "2025-07-14T12:50:20.586559Z",
     "start_time": "2025-07-14T12:50:20.583256Z"
    }
   },
   "outputs": [],
   "execution_count": 229
  },
  {
   "metadata": {},
   "cell_type": "markdown",
   "source": "#### Plotting"
  },
  {
   "metadata": {
    "ExecuteTime": {
     "end_time": "2025-07-14T12:50:20.641118Z",
     "start_time": "2025-07-14T12:50:20.638194Z"
    }
   },
   "cell_type": "code",
   "source": [
    "def return_subplot(num_feats):\n",
    "    if num_feats == 1:\n",
    "        fig, ax = plt.subplots(1, 1)\n",
    "    elif num_feats == 2:\n",
    "        fig, ax = plt.subplots(2, 1)\n",
    "    elif num_feats == 3:\n",
    "        fig, ax = plt.subplots(3, 1)\n",
    "    else:\n",
    "        fig, ax = plt.subplots(min(4, math.floor((num_feats)/2)), 2)\n",
    "\n",
    "    return fig, ax"
   ],
   "outputs": [],
   "execution_count": 230
  },
  {
   "metadata": {
    "ExecuteTime": {
     "end_time": "2025-07-14T12:50:20.749700Z",
     "start_time": "2025-07-14T12:50:20.745112Z"
    }
   },
   "cell_type": "code",
   "source": [
    "def subplot_trajectories(stats, label, line, title, domain_label, random_feats=False, max_feats_show=4):\n",
    "\n",
    "    T, num_feats = stats[0].shape\n",
    "    num_feats_show = min(num_feats, max_feats_show)\n",
    "\n",
    "    fig, ax = return_subplot(num_feats_show)\n",
    "    ax = ax.ravel()\n",
    "\n",
    "    if max_feats_show > 4 and random_feats:\n",
    "        feats = torch.randperm(stats[0].shape[1])[:num_feats_show]\n",
    "    else:\n",
    "        feats = torch.arange(num_feats_show)\n",
    "\n",
    "    for i in range(0, num_feats_show):\n",
    "        for s in range(len(stats)):\n",
    "            ax[i].plot(stats[s][:,feats[i]], line[s], label=label[s])\n",
    "\n",
    "            ax[i].set_ylabel(f\"${domain_label}_{{{feats[i]}}}$\")\n",
    "            ax[i].set_xlabel(f\"$t$\")\n",
    "\n",
    "        if i==num_feats_show - 1:\n",
    "            ax[i].legend()\n",
    "    plt.suptitle(title)"
   ],
   "outputs": [],
   "execution_count": 231
  },
  {
   "cell_type": "markdown",
   "source": [
    "### Forward functions for the network"
   ],
   "metadata": {
    "id": "RvRUL7SMCNGh"
   }
  },
  {
   "cell_type": "code",
   "source": [
    "def forward(tok_emb_t_1, x_t, W_k, W_q, beta=1.0):\n",
    "    # apply softmax to get probabilities\n",
    "    k_t_1 = tok_emb_t_1 @ W_k.T\n",
    "    q_t = x_t @ W_q.T\n",
    "    Wk_Wq_x_t = W_k.T @ q_t  # Compute this also for comparison\n",
    "\n",
    "    probs = F.softmax(beta * k_t_1 @ q_t, dim=0)\n",
    "\n",
    "    # sample from the distribution\n",
    "    idx_next = torch.multinomial(probs, num_samples=1)\n",
    "\n",
    "    tok_t = tok_emb_t_1[idx_next][0]\n",
    "\n",
    "    return tok_t, idx_next, Wk_Wq_x_t, q_t, probs"
   ],
   "metadata": {
    "id": "3Gr6CILJB70N",
    "ExecuteTime": {
     "end_time": "2025-07-14T12:50:20.852576Z",
     "start_time": "2025-07-14T12:50:20.848402Z"
    }
   },
   "outputs": [],
   "execution_count": 232
  },
  {
   "cell_type": "code",
   "source": [
    "def forward_mf(mu, cov, tok_emb, W_k, W_q, beta):\n",
    "\n",
    "    # Compute the probability of the text token\n",
    "    k = tok_emb @ W_k.T\n",
    "    p_k = beta * k @ mu + beta**2 * torch.einsum('ni,ij,nj->n', k, cov, k) / 2\n",
    "\n",
    "    p_k = F.softmax(p_k, dim=0)\n",
    "\n",
    "    max_k_idx = torch.argmax(p_k, dim=0)\n",
    "\n",
    "    # Get the mean of x\n",
    "    mu_x = torch.sum(p_k[:, None] * tok_emb, dim=0)\n",
    "\n",
    "    mu_k = mu_x @ W_k.T\n",
    "    mu_q = mu_x @ W_q.T\n",
    "\n",
    "    q = tok_emb @ W_q.T\n",
    "    q_centered = q - mu_q\n",
    "    sigma_q = torch.einsum('n,nm,nk->mk', p_k, q_centered, q_centered)\n",
    "\n",
    "    return mu_k, mu_q, sigma_q, max_k_idx, p_k"
   ],
   "metadata": {
    "id": "J2tNhRhICAp_",
    "ExecuteTime": {
     "end_time": "2025-07-14T12:50:20.953796Z",
     "start_time": "2025-07-14T12:50:20.950425Z"
    }
   },
   "outputs": [],
   "execution_count": 233
  },
  {
   "cell_type": "markdown",
   "source": [
    "### Experiment settings"
   ],
   "metadata": {
    "id": "_y62uH9IPlLe"
   }
  },
  {
   "cell_type": "code",
   "source": [
    "num_trials = 10000\n",
    "num_running_steps = 5"
   ],
   "metadata": {
    "id": "nbmoBXLWPmv7",
    "ExecuteTime": {
     "end_time": "2025-07-14T12:50:21.050124Z",
     "start_time": "2025-07-14T12:50:21.048061Z"
    }
   },
   "outputs": [],
   "execution_count": 234
  },
  {
   "cell_type": "markdown",
   "source": [
    "### Network settings"
   ],
   "metadata": {
    "id": "C4sGkaihDajo"
   }
  },
  {
   "cell_type": "code",
   "source": [
    "beta = 1.3\n",
    "binary_vars = False\n",
    "q_is_roll = False  # If W_q a shift over W_k\n",
    "patterns_from_vocab = True # If you draw samples from the token vocab to make the W patterns\n",
    "emb_size = 500 # Number of tokens in the embedding. -1 if you want the full vocab size\n",
    "num_patterns = 3  # Number of patterns in the W matrices. -1 if you want to match token_size\n",
    "token_size = 250 # Number of features. If -1, match with the embedding token size, otherwise, force your selection.\n",
    "random_ini_token = True\n",
    "ini_token_idx = 0\n",
    "# prev seed  150\n",
    "seed = 158\n",
    "\n",
    "torch.manual_seed(seed)\n"
   ],
   "metadata": {
    "id": "kTk3c5xOCJsZ",
    "ExecuteTime": {
     "end_time": "2025-07-14T12:50:21.157565Z",
     "start_time": "2025-07-14T12:50:21.152352Z"
    }
   },
   "outputs": [
    {
     "data": {
      "text/plain": [
       "<torch._C.Generator at 0x7fc5fb9470d0>"
      ]
     },
     "execution_count": 235,
     "metadata": {},
     "output_type": "execute_result"
    }
   ],
   "execution_count": 235
  },
  {
   "metadata": {
    "colab": {
     "base_uri": "https://localhost:8080/"
    },
    "id": "VWUTjQVatGMz",
    "outputId": "5741d89c-c89e-4d77-f646-2c82f42e5109",
    "ExecuteTime": {
     "end_time": "2025-07-14T12:50:25.777228Z",
     "start_time": "2025-07-14T12:50:21.242355Z"
    }
   },
   "cell_type": "code",
   "source": [
    "device = 'cpu'  # examples: 'cpu', 'cuda', 'cuda:0', 'cuda:1', etc.\n",
    "\n",
    "if not binary_vars:\n",
    "\n",
    "    # In this case instead of initializing from random varialbes, use GPT2 embeddings\n",
    "    # as initialization (They are distributed in a Gaussian way for a large number of tokens).\n",
    "\n",
    "    # Load GPT2\n",
    "    model_name = \"gpt2\"\n",
    "    model = GPT.from_pretrained(model_name, dict(dropout=0.0))\n",
    "    model.to(device)"
   ],
   "outputs": [
    {
     "name": "stderr",
     "output_type": "stream",
     "text": [
      "/home/apoc/Documents/projects/nanoGPT/.venv/lib/python3.10/site-packages/tqdm/auto.py:21: TqdmWarning: IProgress not found. Please update jupyter and ipywidgets. See https://ipywidgets.readthedocs.io/en/stable/user_install.html\n",
      "  from .autonotebook import tqdm as notebook_tqdm\n"
     ]
    },
    {
     "name": "stdout",
     "output_type": "stream",
     "text": [
      "loading weights from pretrained gpt: gpt2\n",
      "forcing vocab_size=50257, block_size=1024, bias=True\n",
      "overriding dropout rate to 0.0\n",
      "WARNING: using slow attention. Flash Attention requires PyTorch >= 2.0\n",
      "WARNING: using slow attention. Flash Attention requires PyTorch >= 2.0\n",
      "WARNING: using slow attention. Flash Attention requires PyTorch >= 2.0\n",
      "WARNING: using slow attention. Flash Attention requires PyTorch >= 2.0\n",
      "WARNING: using slow attention. Flash Attention requires PyTorch >= 2.0\n",
      "WARNING: using slow attention. Flash Attention requires PyTorch >= 2.0\n",
      "WARNING: using slow attention. Flash Attention requires PyTorch >= 2.0\n",
      "WARNING: using slow attention. Flash Attention requires PyTorch >= 2.0\n",
      "WARNING: using slow attention. Flash Attention requires PyTorch >= 2.0\n",
      "WARNING: using slow attention. Flash Attention requires PyTorch >= 2.0\n",
      "WARNING: using slow attention. Flash Attention requires PyTorch >= 2.0\n",
      "WARNING: using slow attention. Flash Attention requires PyTorch >= 2.0\n",
      "number of parameters: 123.65M\n"
     ]
    }
   ],
   "execution_count": 236
  },
  {
   "cell_type": "code",
   "source": [
    "####################\n",
    "# Set up the vocabulary and weights\n",
    "####################\n",
    "\n",
    "# Define the tokens or spins\n",
    "if binary_vars:    # Binary variables\n",
    "\n",
    "    if token_size == -1:\n",
    "        raise Exception(\"token_size must be defined\")\n",
    "    if num_patterns == -1:\n",
    "        raise Exception(\"num_patterns must be defined\")\n",
    "    if emb_size == -1:\n",
    "        raise Exception(\"emb_size must be defined\")\n",
    "\n",
    "    tok_emb = (torch.rand((emb_size, token_size), device=device) > 0.5).float()\n",
    "    tok_emb = tok_emb * 2 - 1\n",
    "else:   # Tokens from GPT2\n",
    "\n",
    "    # Get embeddings to sample tokens from them\n",
    "    wte = model.transformer.wte\n",
    "    num_embeddings = wte.num_embeddings\n",
    "\n",
    "    if token_size==-1:\n",
    "        token_size = wte.embedding_dim\n",
    "\n",
    "    if emb_size == -1:\n",
    "      emb_size = num_embeddings\n",
    "\n",
    "    if num_patterns == -1:\n",
    "      num_patterns = token_size\n",
    "\n",
    "    # Select emb_size tokens from the embedding to create a smaller vocabulary\n",
    "    perm_tokens_idxs = torch.randperm(num_embeddings)\n",
    "    tokens_idxs = perm_tokens_idxs[:emb_size]\n",
    "\n",
    "    # Transform into token representation\n",
    "    # Equivalent to x_{t+1} in the LaTeX doc\n",
    "    tok_emb = model.transformer.wte(tokens_idxs).detach()\n",
    "    perm_feats_idxs = torch.randperm(wte.embedding_dim)\n",
    "    tok_emb = tok_emb[:, perm_feats_idxs[:token_size]]\n",
    "\n",
    "# Define the W patterns\n",
    "\n",
    "if patterns_from_vocab:\n",
    "\n",
    "    if num_patterns > emb_size:\n",
    "        raise Exception(\"num_patterns > emb_size\")\n",
    "\n",
    "    k_patts = torch.randperm(emb_size)[:num_patterns]\n",
    "    q_patts = torch.randperm(emb_size)[:num_patterns]\n",
    "\n",
    "    W_k = tok_emb[k_patts]\n",
    "    W_q = tok_emb[q_patts]\n",
    "\n",
    "    if binary_vars:\n",
    "        W_k = W_k / math.sqrt(token_size)\n",
    "        W_q = W_q / math.sqrt(token_size)\n",
    "    else:\n",
    "\n",
    "        tok_mean = torch.mean(tok_emb, dim=None)\n",
    "        tok_mean_b = torch.mean(tok_emb, dim=0)\n",
    "        k_mean = torch.mean(tok_emb[k_patts], dim=None)\n",
    "        q_mean = torch.mean(tok_emb[q_patts], dim=None)\n",
    "        k_std = torch.std(tok_emb[k_patts], dim=None)\n",
    "        q_std = torch.std(tok_emb[q_patts], dim=None)\n",
    "\n",
    "        tok_emb_std = torch.std(tok_emb, dim=None)\n",
    "        tok_emb_std_b = torch.std(tok_emb, dim=0)\n",
    "\n",
    "        scaling = torch.sqrt(tok_emb_std_b**2 + tok_mean_b**2)\n",
    "        # FPC = 1 - (num_patterns / emb_size)\n",
    "        # W_k = tok_emb[k_patts] / scaling\n",
    "        # W_q = tok_emb[q_patts] / scaling\n",
    "        #\n",
    "        # J = (1 / math.sqrt(token_size * num_patterns)) * (W_k.T @ W_q)\n",
    "\n",
    "        W_k = W_k / (scaling * (token_size * num_patterns)**(1/4))\n",
    "        W_q = W_q / (scaling * (token_size * num_patterns)**(1/4))\n",
    "\n",
    "\n",
    "    J = (W_k.T @ W_q)\n",
    "    J_var = torch.var(J, dim=None)\n",
    "    print(\"J variance\", J_var, 1/token_size)\n",
    "    print()\n",
    "\n",
    "else:\n",
    "    # Create random W patterns\n",
    "    w_mean = 0\n",
    "    # w_std = 1/math.sqrt(token_size)\n",
    "    w_std = 1\n",
    "    # num_patterns = token_size\n",
    "    W_k = torch.normal(w_mean, w_std, (num_patterns, token_size))\n",
    "    W_q = torch.normal(w_mean, w_std, (num_patterns, token_size))\n",
    "\n",
    "    if binary_vars and not patterns_from_vocab:\n",
    "        raise Exception(\"Behavior not programmed yet\")\n",
    "\n",
    "if q_is_roll:\n",
    "    W_q = torch.roll(W_k, 1, 0)\n"
   ],
   "metadata": {
    "id": "tx3uzupaDpd2",
    "ExecuteTime": {
     "end_time": "2025-07-14T12:50:25.844192Z",
     "start_time": "2025-07-14T12:50:25.829874Z"
    }
   },
   "outputs": [
    {
     "name": "stdout",
     "output_type": "stream",
     "text": [
      "J variance tensor(0.0046) 0.004\n",
      "\n"
     ]
    }
   ],
   "execution_count": 237
  },
  {
   "cell_type": "markdown",
   "source": [
    "### Choose initial token"
   ],
   "metadata": {
    "id": "fVZJIjdXK6zB"
   }
  },
  {
   "cell_type": "code",
   "source": [
    "# Choose initial token\n",
    "# Choose x_0\n",
    "if random_ini_token:\n",
    "    tok_0 = torch.randn((emb_size, token_size))[ini_token_idx]\n",
    "else:\n",
    "    # tok_0 = tok_emb[ini_token_idx]\n",
    "    tok_0 = W_q[ini_token_idx]\n"
   ],
   "metadata": {
    "id": "BGxwJRvnKQTD",
    "ExecuteTime": {
     "end_time": "2025-07-14T12:50:25.955060Z",
     "start_time": "2025-07-14T12:50:25.951740Z"
    }
   },
   "outputs": [],
   "execution_count": 238
  },
  {
   "metadata": {},
   "cell_type": "markdown",
   "source": "### For debugging purposes"
  },
  {
   "metadata": {
    "ExecuteTime": {
     "end_time": "2025-07-14T12:50:26.078950Z",
     "start_time": "2025-07-14T12:50:26.073601Z"
    }
   },
   "cell_type": "code",
   "source": [
    "timesteps_to_examine = [0, 1, 2, 3]\n",
    "\n",
    "timesteps_to_examine = [t for t in timesteps_to_examine if t < num_running_steps]\n",
    "timesteps_to_examine_dict = dict([(k,v) for k, v in zip(timesteps_to_examine, range(len(timesteps_to_examine)))])\n",
    "\n"
   ],
   "outputs": [],
   "execution_count": 239
  },
  {
   "cell_type": "markdown",
   "source": [
    "## Model without approximation"
   ],
   "metadata": {
    "id": "fE_AcMyUQA1Y"
   }
  },
  {
   "cell_type": "code",
   "source": [
    "# Variables to save statistics\n",
    "tok_stats_sim = torch.zeros((num_trials, num_running_steps, token_size))\n",
    "idxs = torch.zeros((num_trials, num_running_steps))\n",
    "\n",
    "# Create structure to save data from different runs\n",
    "n_trials_to_examine = [1, 3]\n",
    "n_trials_to_examine = [r for r in n_trials_to_examine if r < num_running_steps]\n",
    "n_trials_to_examine_dict = dict([(k,v) for k, v in zip(n_trials_to_examine, range(len(n_trials_to_examine)))])\n",
    "\n",
    "probs_sim_t = torch.zeros((len(n_trials_to_examine), len(timesteps_to_examine), emb_size))"
   ],
   "metadata": {
    "id": "fyIcuNu5Pt1W",
    "ExecuteTime": {
     "end_time": "2025-07-14T12:50:26.157381Z",
     "start_time": "2025-07-14T12:50:26.147196Z"
    }
   },
   "outputs": [],
   "execution_count": 240
  },
  {
   "cell_type": "code",
   "source": [
    "################################################\n",
    "# Compute the average over multiple trajectories (without approximation)\n",
    "################################################\n",
    "\n",
    "startt = time.time()\n",
    "for r in range(num_trials):\n",
    "\n",
    "    if r % 100 == 0:\n",
    "        print(f\"Trial {r+1}/{num_trials}\")\n",
    "\n",
    "    tok_t_1 = tok_0.clone()\n",
    "    for t in range(num_running_steps):\n",
    "\n",
    "        # Get the next token\n",
    "        tok_t_1, idx_t_1, Wk_Wq_x_t, q_t, probs = forward(tok_emb, tok_t_1, W_k, W_q, beta)\n",
    "\n",
    "        # Accumulate stats\n",
    "        tok_stats_sim[r, t, :] += tok_t_1\n",
    "        idxs[r, t] = idx_t_1\n",
    "        if r in n_trials_to_examine and t in timesteps_to_examine:\n",
    "            probs_sim_t[n_trials_to_examine_dict[r], timesteps_to_examine_dict[t]] = probs\n",
    "\n",
    "endt = time.time()\n",
    "time_elapsed = endt - startt\n",
    "print(f\"Time elapsed: {time_elapsed:.2f} seconds\")\n",
    "\n",
    "print(\"Selected tokens at each step\")\n",
    "print(idxs[0])\n",
    "print(idxs[3])\n",
    "print(idxs[100])\n",
    "print(idxs[-1])\n",
    "\n",
    "mode_idxs = torch.mode(idxs, 0).values\n",
    "\n",
    "\n",
    "tok_stats_sim_avg = torch.mean(tok_stats_sim, dim=0)"
   ],
   "metadata": {
    "id": "yaoY9PoFNgmY",
    "colab": {
     "base_uri": "https://localhost:8080/"
    },
    "outputId": "fd9d7843-0856-49e8-dbf1-36942eaae20a",
    "ExecuteTime": {
     "end_time": "2025-07-14T12:50:32.962952Z",
     "start_time": "2025-07-14T12:50:26.256556Z"
    }
   },
   "outputs": [
    {
     "name": "stdout",
     "output_type": "stream",
     "text": [
      "Trial 1/10000\n",
      "1 0\n",
      "1 1\n",
      "1 2\n",
      "1 3\n",
      "3 0\n",
      "3 1\n",
      "3 2\n",
      "3 3\n",
      "Trial 101/10000\n",
      "Trial 201/10000\n",
      "Trial 301/10000\n",
      "Trial 401/10000\n",
      "Trial 501/10000\n",
      "Trial 601/10000\n",
      "Trial 701/10000\n",
      "Trial 801/10000\n",
      "Trial 901/10000\n",
      "Trial 1001/10000\n",
      "Trial 1101/10000\n",
      "Trial 1201/10000\n",
      "Trial 1301/10000\n",
      "Trial 1401/10000\n",
      "Trial 1501/10000\n",
      "Trial 1601/10000\n",
      "Trial 1701/10000\n",
      "Trial 1801/10000\n",
      "Trial 1901/10000\n",
      "Trial 2001/10000\n",
      "Trial 2101/10000\n",
      "Trial 2201/10000\n",
      "Trial 2301/10000\n",
      "Trial 2401/10000\n",
      "Trial 2501/10000\n",
      "Trial 2601/10000\n",
      "Trial 2701/10000\n",
      "Trial 2801/10000\n",
      "Trial 2901/10000\n",
      "Trial 3001/10000\n",
      "Trial 3101/10000\n",
      "Trial 3201/10000\n",
      "Trial 3301/10000\n",
      "Trial 3401/10000\n",
      "Trial 3501/10000\n",
      "Trial 3601/10000\n",
      "Trial 3701/10000\n",
      "Trial 3801/10000\n",
      "Trial 3901/10000\n",
      "Trial 4001/10000\n",
      "Trial 4101/10000\n",
      "Trial 4201/10000\n",
      "Trial 4301/10000\n",
      "Trial 4401/10000\n",
      "Trial 4501/10000\n",
      "Trial 4601/10000\n",
      "Trial 4701/10000\n",
      "Trial 4801/10000\n",
      "Trial 4901/10000\n",
      "Trial 5001/10000\n",
      "Trial 5101/10000\n",
      "Trial 5201/10000\n",
      "Trial 5301/10000\n",
      "Trial 5401/10000\n",
      "Trial 5501/10000\n",
      "Trial 5601/10000\n",
      "Trial 5701/10000\n",
      "Trial 5801/10000\n",
      "Trial 5901/10000\n",
      "Trial 6001/10000\n",
      "Trial 6101/10000\n",
      "Trial 6201/10000\n",
      "Trial 6301/10000\n",
      "Trial 6401/10000\n",
      "Trial 6501/10000\n",
      "Trial 6601/10000\n",
      "Trial 6701/10000\n",
      "Trial 6801/10000\n",
      "Trial 6901/10000\n",
      "Trial 7001/10000\n",
      "Trial 7101/10000\n",
      "Trial 7201/10000\n",
      "Trial 7301/10000\n",
      "Trial 7401/10000\n",
      "Trial 7501/10000\n",
      "Trial 7601/10000\n",
      "Trial 7701/10000\n",
      "Trial 7801/10000\n",
      "Trial 7901/10000\n",
      "Trial 8001/10000\n",
      "Trial 8101/10000\n",
      "Trial 8201/10000\n",
      "Trial 8301/10000\n",
      "Trial 8401/10000\n",
      "Trial 8501/10000\n",
      "Trial 8601/10000\n",
      "Trial 8701/10000\n",
      "Trial 8801/10000\n",
      "Trial 8901/10000\n",
      "Trial 9001/10000\n",
      "Trial 9101/10000\n",
      "Trial 9201/10000\n",
      "Trial 9301/10000\n",
      "Trial 9401/10000\n",
      "Trial 9501/10000\n",
      "Trial 9601/10000\n",
      "Trial 9701/10000\n",
      "Trial 9801/10000\n",
      "Trial 9901/10000\n",
      "Time elapsed: 6.69 seconds\n",
      "Selected tokens at each step\n",
      "tensor([ 57., 248.,  57.,  81., 462.])\n",
      "tensor([ 57., 309., 462., 462., 462.])\n",
      "tensor([ 57., 493., 462., 462., 462.])\n",
      "tensor([ 57.,  99., 462., 462., 462.])\n"
     ]
    }
   ],
   "execution_count": 241
  },
  {
   "cell_type": "code",
   "source": [
    "idxs[0]"
   ],
   "metadata": {
    "colab": {
     "base_uri": "https://localhost:8080/"
    },
    "id": "aixv2DqjcB_M",
    "outputId": "0a8ed78f-6c0b-4b36-9cc8-0817cbf1ac25",
    "ExecuteTime": {
     "end_time": "2025-07-14T12:50:33.036469Z",
     "start_time": "2025-07-14T12:50:33.032090Z"
    }
   },
   "outputs": [
    {
     "data": {
      "text/plain": [
       "tensor([ 57., 248.,  57.,  81., 462.])"
      ]
     },
     "execution_count": 242,
     "metadata": {},
     "output_type": "execute_result"
    }
   ],
   "execution_count": 242
  },
  {
   "metadata": {
    "ExecuteTime": {
     "end_time": "2025-07-14T12:50:33.140021Z",
     "start_time": "2025-07-14T12:50:33.135301Z"
    }
   },
   "cell_type": "code",
   "source": "probs_sim_t[0,0,:]==probs_sim_t[1,0,:]",
   "outputs": [
    {
     "data": {
      "text/plain": [
       "tensor([True, True, True, True, True, True, True, True, True, True, True, True,\n",
       "        True, True, True, True, True, True, True, True, True, True, True, True,\n",
       "        True, True, True, True, True, True, True, True, True, True, True, True,\n",
       "        True, True, True, True, True, True, True, True, True, True, True, True,\n",
       "        True, True, True, True, True, True, True, True, True, True, True, True,\n",
       "        True, True, True, True, True, True, True, True, True, True, True, True,\n",
       "        True, True, True, True, True, True, True, True, True, True, True, True,\n",
       "        True, True, True, True, True, True, True, True, True, True, True, True,\n",
       "        True, True, True, True, True, True, True, True, True, True, True, True,\n",
       "        True, True, True, True, True, True, True, True, True, True, True, True,\n",
       "        True, True, True, True, True, True, True, True, True, True, True, True,\n",
       "        True, True, True, True, True, True, True, True, True, True, True, True,\n",
       "        True, True, True, True, True, True, True, True, True, True, True, True,\n",
       "        True, True, True, True, True, True, True, True, True, True, True, True,\n",
       "        True, True, True, True, True, True, True, True, True, True, True, True,\n",
       "        True, True, True, True, True, True, True, True, True, True, True, True,\n",
       "        True, True, True, True, True, True, True, True, True, True, True, True,\n",
       "        True, True, True, True, True, True, True, True, True, True, True, True,\n",
       "        True, True, True, True, True, True, True, True, True, True, True, True,\n",
       "        True, True, True, True, True, True, True, True, True, True, True, True,\n",
       "        True, True, True, True, True, True, True, True, True, True, True, True,\n",
       "        True, True, True, True, True, True, True, True, True, True, True, True,\n",
       "        True, True, True, True, True, True, True, True, True, True, True, True,\n",
       "        True, True, True, True, True, True, True, True, True, True, True, True,\n",
       "        True, True, True, True, True, True, True, True, True, True, True, True,\n",
       "        True, True, True, True, True, True, True, True, True, True, True, True,\n",
       "        True, True, True, True, True, True, True, True, True, True, True, True,\n",
       "        True, True, True, True, True, True, True, True, True, True, True, True,\n",
       "        True, True, True, True, True, True, True, True, True, True, True, True,\n",
       "        True, True, True, True, True, True, True, True, True, True, True, True,\n",
       "        True, True, True, True, True, True, True, True, True, True, True, True,\n",
       "        True, True, True, True, True, True, True, True, True, True, True, True,\n",
       "        True, True, True, True, True, True, True, True, True, True, True, True,\n",
       "        True, True, True, True, True, True, True, True, True, True, True, True,\n",
       "        True, True, True, True, True, True, True, True, True, True, True, True,\n",
       "        True, True, True, True, True, True, True, True, True, True, True, True,\n",
       "        True, True, True, True, True, True, True, True, True, True, True, True,\n",
       "        True, True, True, True, True, True, True, True, True, True, True, True,\n",
       "        True, True, True, True, True, True, True, True, True, True, True, True,\n",
       "        True, True, True, True, True, True, True, True, True, True, True, True,\n",
       "        True, True, True, True, True, True, True, True, True, True, True, True,\n",
       "        True, True, True, True, True, True, True, True])"
      ]
     },
     "execution_count": 243,
     "metadata": {},
     "output_type": "execute_result"
    }
   ],
   "execution_count": 243
  },
  {
   "cell_type": "markdown",
   "source": [
    "## Model with approximation"
   ],
   "metadata": {
    "id": "0f2pZyZnQc_g"
   }
  },
  {
   "cell_type": "code",
   "source": [
    "# Variables to save stats\n",
    "mu_q_t_1 = tok_0 @ W_q.T\n",
    "cov_q_t_1 = torch.zeros((num_patterns, num_patterns))\n",
    "\n",
    "stats_k_mf = torch.zeros((num_running_steps, num_patterns))\n",
    "idxs_mf = torch.zeros(num_running_steps)\n",
    "\n",
    "probs_mf_t = torch.zeros(len(timesteps_to_examine), emb_size)\n",
    "q_mf_t = torch.zeros(len(timesteps_to_examine), num_patterns)\n",
    "q_mf_cov_t = torch.zeros(len(timesteps_to_examine), num_patterns, num_patterns)\n",
    "\n"
   ],
   "metadata": {
    "id": "DxVKoMw9pDhq",
    "ExecuteTime": {
     "end_time": "2025-07-14T12:50:33.263896Z",
     "start_time": "2025-07-14T12:50:33.260265Z"
    }
   },
   "outputs": [],
   "execution_count": 244
  },
  {
   "cell_type": "code",
   "source": [
    "#####\n",
    "# Compute the approximation\n",
    "########\n",
    "\n",
    "\n",
    "for t in range(num_running_steps):\n",
    "\n",
    "    mu_k, mu_q_t_1, cov_q_t_1, max_k, probs_mf = forward_mf(mu_q_t_1, cov_q_t_1, tok_emb, W_k, W_q, beta)\n",
    "\n",
    "    # Save stats\n",
    "    idxs_mf[t] = max_k\n",
    "    stats_k_mf[t] = mu_k\n",
    "    if t in timesteps_to_examine:\n",
    "        probs_mf_t[timesteps_to_examine_dict[t]] = probs_mf\n",
    "        q_mf_t[timesteps_to_examine_dict[t]] = mu_q_t_1\n",
    "        q_mf_cov_t[timesteps_to_examine_dict[t]] = cov_q_t_1\n",
    "\n"
   ],
   "metadata": {
    "colab": {
     "base_uri": "https://localhost:8080/"
    },
    "id": "6kn9clYLhQkc",
    "outputId": "0a8a15b4-3f07-4adc-cd71-764dea5c2ef2",
    "ExecuteTime": {
     "end_time": "2025-07-14T12:50:33.383134Z",
     "start_time": "2025-07-14T12:50:33.377506Z"
    }
   },
   "outputs": [],
   "execution_count": 245
  },
  {
   "cell_type": "code",
   "source": "",
   "metadata": {
    "colab": {
     "base_uri": "https://localhost:8080/"
    },
    "id": "AWp4lWUIhNdT",
    "outputId": "d91f892b-cd1e-4939-f910-2a02965ad8b4",
    "ExecuteTime": {
     "end_time": "2025-07-14T12:50:33.479681Z",
     "start_time": "2025-07-14T12:50:33.477467Z"
    }
   },
   "outputs": [],
   "execution_count": null
  },
  {
   "cell_type": "markdown",
   "source": [
    "## Plotting"
   ],
   "metadata": {
    "id": "teV7SUMNV9IJ"
   }
  },
  {
   "metadata": {
    "ExecuteTime": {
     "end_time": "2025-07-14T12:50:39.402904Z",
     "start_time": "2025-07-14T12:50:33.551470Z"
    }
   },
   "cell_type": "code",
   "source": [
    "for i in range(len(timesteps_to_examine)):\n",
    "    fig, ax = plt.subplots(1, 3)\n",
    "\n",
    "    print(torch.allclose(probs_sim_t[0, i, :], probs_sim_t[1, i, :]), torch.allclose(probs_sim_t[0, i, :], probs_mf_t[i, :]))\n",
    "\n",
    "    maxprob = torch.max(torch.cat((probs_sim_t[0, i, :], probs_sim_t[1, i, :], probs_mf_t[i, :])))\n",
    "\n",
    "    print(maxprob, torch.max(probs_sim_t[0, i, :]), torch.max(probs_sim_t[1, i, :]), torch.max(probs_mf_t[i, :]))\n",
    "\n",
    "    ax[0].bar(torch.arange(emb_size), probs_sim_t[0, i, :])\n",
    "    ax[0].set_title(f\"Sim {n_trials_to_examine[0]} Max {torch.argmax(probs_sim_t[0, i, :])}\")\n",
    "    ax[0].set_ylim(0, maxprob)\n",
    "    ax[0].set_xlim(0, emb_size)\n",
    "    ax[1].bar(torch.arange(emb_size), probs_sim_t[1, i, :])\n",
    "    ax[1].set_title(f\"Sim {n_trials_to_examine[1]} Max {torch.argmax(probs_sim_t[1, i, :])}\")\n",
    "    ax[1].set_ylim(0, maxprob)\n",
    "    ax[1].set_xlim(0, emb_size)\n",
    "    ax[2].bar(torch.arange(emb_size), probs_mf_t[i, :])\n",
    "    ax[2].set_title(f\"MF Max {torch.argmax(probs_mf_t[i, :])}\")\n",
    "    ax[2].set_ylim(0, maxprob)\n",
    "    ax[2].set_xlim(0, emb_size)\n",
    "\n",
    "\n",
    "    plt.suptitle(rf\"t={timesteps_to_examine[i]} $\\beta$={beta}\")"
   ],
   "outputs": [
    {
     "name": "stdout",
     "output_type": "stream",
     "text": [
      "True True\n",
      "tensor(1.0000) tensor(1.0000) tensor(1.0000) tensor(1.0000)\n",
      "True False\n",
      "tensor(0.0938) tensor(0.0938) tensor(0.0938) tensor(0.0938)\n",
      "False False\n",
      "tensor(0.9272) tensor(0.7459) tensor(0.7623) tensor(0.9272)\n",
      "False False\n",
      "tensor(0.9162) tensor(0.8219) tensor(0.9162) tensor(0.8503)\n"
     ]
    },
    {
     "data": {
      "text/plain": [
       "<Figure size 640x480 with 3 Axes>"
      ],
      "image/png": "[encoded data removed]"
     },
     "metadata": {},
     "output_type": "display_data"
    },
    {
     "data": {
      "text/plain": [
       "<Figure size 640x480 with 3 Axes>"
      ],
      "image/png": "[encoded data removed]"
     },
     "metadata": {},
     "output_type": "display_data"
    },
    {
     "data": {
      "text/plain": [
       "<Figure size 640x480 with 3 Axes>"
      ],
      "image/png": "[encoded data removed]"
     },
     "metadata": {},
     "output_type": "display_data"
    },
    {
     "data": {
      "text/plain": [
       "<Figure size 640x480 with 3 Axes>"
      ],
      "image/png": "[encoded data removed]"
     },
     "metadata": {},
     "output_type": "display_data"
    }
   ],
   "execution_count": 246
  },
  {
   "metadata": {},
   "cell_type": "markdown",
   "source": "Plot just the average of the simulated trajectory"
  },
  {
   "metadata": {
    "ExecuteTime": {
     "end_time": "2025-07-14T12:50:39.676770Z",
     "start_time": "2025-07-14T12:50:39.477498Z"
    }
   },
   "cell_type": "code",
   "source": [
    "tag = \"k\"\n",
    "if patterns_from_vocab:\n",
    "    patterns_str = \"VocabPatts\"\n",
    "else:\n",
    "    patterns_str = \"GaussianPatts\"\n",
    "\n",
    "stats = [tok_stats_sim_avg @ W_k.T]\n",
    "# stats = [stat[num_patterns:num_patterns*3] for stat in stats]\n",
    "label = [\"Ori\"]\n",
    "line = [\"-\"]\n",
    "title = rf\"{tag} $s$={seed} $\\beta$={beta} n_trials={num_trials} {patterns_str} N={token_size} M={num_patterns} V={emb_size}\"\n",
    "subplot_trajectories(stats, label, line, title, \"k\", random_feats=False, max_feats_show=3)"
   ],
   "outputs": [
    {
     "data": {
      "text/plain": [
       "<Figure size 640x480 with 3 Axes>"
      ],
      "image/png": "[encoded data removed]"
     },
     "metadata": {},
     "output_type": "display_data"
    }
   ],
   "execution_count": 247
  },
  {
   "metadata": {},
   "cell_type": "markdown",
   "source": "Now compare with MF"
  },
  {
   "metadata": {
    "ExecuteTime": {
     "end_time": "2025-07-14T12:50:39.949559Z",
     "start_time": "2025-07-14T12:50:39.733275Z"
    }
   },
   "cell_type": "code",
   "source": [
    "stats = [tok_stats_sim_avg @ W_k.T,  stats_k_mf]\n",
    "label = [\"Sim\", \"MFk\"]\n",
    "line = [\"-\", \"-.\"]\n",
    "subplot_trajectories(stats, label, line, title, \"k\", random_feats=True)"
   ],
   "outputs": [
    {
     "data": {
      "text/plain": [
       "<Figure size 640x480 with 3 Axes>"
      ],
      "image/png": "[encoded data removed]"
     },
     "metadata": {},
     "output_type": "display_data"
    }
   ],
   "execution_count": 248
  },
  {
   "metadata": {},
   "cell_type": "markdown",
   "source": "Show the mean and covariance for $q_t$ for the simulated and approximated model"
  },
  {
   "metadata": {
    "ExecuteTime": {
     "end_time": "2025-07-14T12:50:40.125013Z",
     "start_time": "2025-07-14T12:50:40.038835Z"
    }
   },
   "cell_type": "code",
   "source": [
    "for t in timesteps_to_examine:\n",
    "    # mean and cov for the simulated model\n",
    "    q_sim_mean_t = torch.mean(tok_stats_sim[:,t,:] @ W_k.T, dim=0)\n",
    "    q_sim_cov_t = torch.cov((tok_stats_sim[:,t,:] @ W_k.T).T)\n",
    "\n",
    "    dist_sim = torch.distributions.MultivariateNormal(loc=q_sim_mean_t, covariance_matrix=q_sim_cov_t)\n",
    "\n",
    "    # Distribution for the approximated model\n",
    "\n",
    "    dist_mf = torch.distributions.MultivariateNormal(loc=q_mf_t[t], covariance_matrix=q_mf_cov_t[t])\n",
    "\n",
    "    grid = torch.linspace(-20, 20, 500)  # adjust range if mean is far from 0\n",
    "\n",
    "    # Plot\n",
    "    fig, axes = plt.subplots(1, 3)\n",
    "\n",
    "    for i in range(3):\n",
    "        # Simulated model\n",
    "        # Prepare input: all means, but vary the selected dimension\n",
    "        x_sim = q_sim_mean_t.repeat(len(grid), 1)  # shape: (grid_size, N)\n",
    "        x_sim[:, i] = grid             # vary selected dimension\n",
    "\n",
    "        logp_sim = dist_sim.log_prob(x_sim)\n",
    "        p_sim = torch.exp(logp_sim).numpy()\n",
    "\n",
    "        # Approximated model\n",
    "        # Prepare input: all means, but vary the selected dimension\n",
    "        x_mf = q_mf_t[t].repeat(len(grid), 1)  # shape: (grid_size, N)\n",
    "        x_mf[:, i] = grid             # vary selected dimension\n",
    "\n",
    "        logp_mf = dist_mf.log_prob(x_sim)\n",
    "        p_mf = torch.exp(logp_mf).numpy()\n",
    "\n",
    "        axes[i].plot(grid.numpy(), p_sim, label=f'Sim', color='steelblue')\n",
    "        axes[i].plot(grid.numpy(), p_mf, \"--\", label=f'MF', color='darkseagreen')\n",
    "        axes[i].set_title(f'Dim {i}')\n",
    "        axes[i].set_xlabel('Value')\n",
    "        axes[i].set_ylabel('Density')\n",
    "\n",
    "        if i == 0:\n",
    "            axes[i].legend(loc=\"upper right\")\n",
    "\n",
    "    fig.suptitle(rf\"Marginal Density t={timesteps_to_examine[t]} $\\beta$={beta}\")\n",
    "\n",
    "\n",
    "    print(q_sim_mean_t.shape, q_sim_cov_t.shape)"
   ],
   "outputs": [
    {
     "ename": "ValueError",
     "evalue": "Expected parameter covariance_matrix (Tensor of shape (3, 3)) of distribution MultivariateNormal(loc: torch.Size([3]), covariance_matrix: torch.Size([3, 3])) to satisfy the constraint PositiveDefinite(), but found invalid values:\ntensor([[ 2.7491e-06, -6.3811e-05,  1.2242e-05],\n        [-6.3811e-05,  1.4812e-03, -2.8417e-04],\n        [ 1.2242e-05, -2.8417e-04,  5.4518e-05]])",
     "output_type": "error",
     "traceback": [
      "\u001B[0;31m---------------------------------------------------------------------------\u001B[0m",
      "\u001B[0;31mValueError\u001B[0m                                Traceback (most recent call last)",
      "Cell \u001B[0;32mIn[249], line 6\u001B[0m\n\u001B[1;32m      3\u001B[0m q_sim_mean_t \u001B[38;5;241m=\u001B[39m torch\u001B[38;5;241m.\u001B[39mmean(tok_stats_sim[:,t,:] \u001B[38;5;241m@\u001B[39m W_k\u001B[38;5;241m.\u001B[39mT, dim\u001B[38;5;241m=\u001B[39m\u001B[38;5;241m0\u001B[39m)\n\u001B[1;32m      4\u001B[0m q_sim_cov_t \u001B[38;5;241m=\u001B[39m torch\u001B[38;5;241m.\u001B[39mcov((tok_stats_sim[:,t,:] \u001B[38;5;241m@\u001B[39m W_k\u001B[38;5;241m.\u001B[39mT)\u001B[38;5;241m.\u001B[39mT)\n\u001B[0;32m----> 6\u001B[0m dist_sim \u001B[38;5;241m=\u001B[39m \u001B[43mtorch\u001B[49m\u001B[38;5;241;43m.\u001B[39;49m\u001B[43mdistributions\u001B[49m\u001B[38;5;241;43m.\u001B[39;49m\u001B[43mMultivariateNormal\u001B[49m\u001B[43m(\u001B[49m\u001B[43mloc\u001B[49m\u001B[38;5;241;43m=\u001B[39;49m\u001B[43mq_sim_mean_t\u001B[49m\u001B[43m,\u001B[49m\u001B[43m \u001B[49m\u001B[43mcovariance_matrix\u001B[49m\u001B[38;5;241;43m=\u001B[39;49m\u001B[43mq_sim_cov_t\u001B[49m\u001B[43m)\u001B[49m\n\u001B[1;32m      8\u001B[0m \u001B[38;5;66;03m# Distribution for the approximated model\u001B[39;00m\n\u001B[1;32m     10\u001B[0m dist_mf \u001B[38;5;241m=\u001B[39m torch\u001B[38;5;241m.\u001B[39mdistributions\u001B[38;5;241m.\u001B[39mMultivariateNormal(loc\u001B[38;5;241m=\u001B[39mq_mf_t[t], covariance_matrix\u001B[38;5;241m=\u001B[39mq_mf_cov_t[t])\n",
      "File \u001B[0;32m~/Documents/projects/nanoGPT/.venv/lib/python3.10/site-packages/torch/distributions/multivariate_normal.py:180\u001B[0m, in \u001B[0;36mMultivariateNormal.__init__\u001B[0;34m(self, loc, covariance_matrix, precision_matrix, scale_tril, validate_args)\u001B[0m\n\u001B[1;32m    177\u001B[0m \u001B[38;5;28mself\u001B[39m\u001B[38;5;241m.\u001B[39mloc \u001B[38;5;241m=\u001B[39m loc\u001B[38;5;241m.\u001B[39mexpand(batch_shape \u001B[38;5;241m+\u001B[39m (\u001B[38;5;241m-\u001B[39m\u001B[38;5;241m1\u001B[39m,))\n\u001B[1;32m    179\u001B[0m event_shape \u001B[38;5;241m=\u001B[39m \u001B[38;5;28mself\u001B[39m\u001B[38;5;241m.\u001B[39mloc\u001B[38;5;241m.\u001B[39mshape[\u001B[38;5;241m-\u001B[39m\u001B[38;5;241m1\u001B[39m:]\n\u001B[0;32m--> 180\u001B[0m \u001B[38;5;28;43msuper\u001B[39;49m\u001B[43m(\u001B[49m\u001B[43m)\u001B[49m\u001B[38;5;241;43m.\u001B[39;49m\u001B[38;5;21;43m__init__\u001B[39;49m\u001B[43m(\u001B[49m\u001B[43mbatch_shape\u001B[49m\u001B[43m,\u001B[49m\u001B[43m \u001B[49m\u001B[43mevent_shape\u001B[49m\u001B[43m,\u001B[49m\u001B[43m \u001B[49m\u001B[43mvalidate_args\u001B[49m\u001B[38;5;241;43m=\u001B[39;49m\u001B[43mvalidate_args\u001B[49m\u001B[43m)\u001B[49m\n\u001B[1;32m    182\u001B[0m \u001B[38;5;28;01mif\u001B[39;00m scale_tril \u001B[38;5;129;01mis\u001B[39;00m \u001B[38;5;129;01mnot\u001B[39;00m \u001B[38;5;28;01mNone\u001B[39;00m:\n\u001B[1;32m    183\u001B[0m     \u001B[38;5;28mself\u001B[39m\u001B[38;5;241m.\u001B[39m_unbroadcasted_scale_tril \u001B[38;5;241m=\u001B[39m scale_tril\n",
      "File \u001B[0;32m~/Documents/projects/nanoGPT/.venv/lib/python3.10/site-packages/torch/distributions/distribution.py:71\u001B[0m, in \u001B[0;36mDistribution.__init__\u001B[0;34m(self, batch_shape, event_shape, validate_args)\u001B[0m\n\u001B[1;32m     69\u001B[0m         valid \u001B[38;5;241m=\u001B[39m constraint\u001B[38;5;241m.\u001B[39mcheck(value)\n\u001B[1;32m     70\u001B[0m         \u001B[38;5;28;01mif\u001B[39;00m \u001B[38;5;129;01mnot\u001B[39;00m valid\u001B[38;5;241m.\u001B[39mall():\n\u001B[0;32m---> 71\u001B[0m             \u001B[38;5;28;01mraise\u001B[39;00m \u001B[38;5;167;01mValueError\u001B[39;00m(\n\u001B[1;32m     72\u001B[0m                 \u001B[38;5;124mf\u001B[39m\u001B[38;5;124m\"\u001B[39m\u001B[38;5;124mExpected parameter \u001B[39m\u001B[38;5;132;01m{\u001B[39;00mparam\u001B[38;5;132;01m}\u001B[39;00m\u001B[38;5;124m \u001B[39m\u001B[38;5;124m\"\u001B[39m\n\u001B[1;32m     73\u001B[0m                 \u001B[38;5;124mf\u001B[39m\u001B[38;5;124m\"\u001B[39m\u001B[38;5;124m(\u001B[39m\u001B[38;5;132;01m{\u001B[39;00m\u001B[38;5;28mtype\u001B[39m(value)\u001B[38;5;241m.\u001B[39m\u001B[38;5;18m__name__\u001B[39m\u001B[38;5;132;01m}\u001B[39;00m\u001B[38;5;124m of shape \u001B[39m\u001B[38;5;132;01m{\u001B[39;00m\u001B[38;5;28mtuple\u001B[39m(value\u001B[38;5;241m.\u001B[39mshape)\u001B[38;5;132;01m}\u001B[39;00m\u001B[38;5;124m) \u001B[39m\u001B[38;5;124m\"\u001B[39m\n\u001B[1;32m     74\u001B[0m                 \u001B[38;5;124mf\u001B[39m\u001B[38;5;124m\"\u001B[39m\u001B[38;5;124mof distribution \u001B[39m\u001B[38;5;132;01m{\u001B[39;00m\u001B[38;5;28mrepr\u001B[39m(\u001B[38;5;28mself\u001B[39m)\u001B[38;5;132;01m}\u001B[39;00m\u001B[38;5;124m \u001B[39m\u001B[38;5;124m\"\u001B[39m\n\u001B[1;32m     75\u001B[0m                 \u001B[38;5;124mf\u001B[39m\u001B[38;5;124m\"\u001B[39m\u001B[38;5;124mto satisfy the constraint \u001B[39m\u001B[38;5;132;01m{\u001B[39;00m\u001B[38;5;28mrepr\u001B[39m(constraint)\u001B[38;5;132;01m}\u001B[39;00m\u001B[38;5;124m, \u001B[39m\u001B[38;5;124m\"\u001B[39m\n\u001B[1;32m     76\u001B[0m                 \u001B[38;5;124mf\u001B[39m\u001B[38;5;124m\"\u001B[39m\u001B[38;5;124mbut found invalid values:\u001B[39m\u001B[38;5;130;01m\\n\u001B[39;00m\u001B[38;5;132;01m{\u001B[39;00mvalue\u001B[38;5;132;01m}\u001B[39;00m\u001B[38;5;124m\"\u001B[39m\n\u001B[1;32m     77\u001B[0m             )\n\u001B[1;32m     78\u001B[0m \u001B[38;5;28msuper\u001B[39m()\u001B[38;5;241m.\u001B[39m\u001B[38;5;21m__init__\u001B[39m()\n",
      "\u001B[0;31mValueError\u001B[0m: Expected parameter covariance_matrix (Tensor of shape (3, 3)) of distribution MultivariateNormal(loc: torch.Size([3]), covariance_matrix: torch.Size([3, 3])) to satisfy the constraint PositiveDefinite(), but found invalid values:\ntensor([[ 2.7491e-06, -6.3811e-05,  1.2242e-05],\n        [-6.3811e-05,  1.4812e-03, -2.8417e-04],\n        [ 1.2242e-05, -2.8417e-04,  5.4518e-05]])"
     ]
    }
   ],
   "execution_count": 249
  },
  {
   "metadata": {
    "ExecuteTime": {
     "end_time": "2025-07-14T12:51:32.750165Z",
     "start_time": "2025-07-14T12:51:32.743987Z"
    }
   },
   "cell_type": "code",
   "source": "q_sim_cov_t",
   "outputs": [
    {
     "data": {
      "text/plain": [
       "tensor([[ 2.7491e-06, -6.3811e-05,  1.2242e-05],\n",
       "        [-6.3811e-05,  1.4812e-03, -2.8417e-04],\n",
       "        [ 1.2242e-05, -2.8417e-04,  5.4518e-05]])"
      ]
     },
     "execution_count": 250,
     "metadata": {},
     "output_type": "execute_result"
    }
   ],
   "execution_count": 250
  },
  {
   "metadata": {
    "ExecuteTime": {
     "end_time": "2025-07-14T12:51:33.098768Z",
     "start_time": "2025-07-14T12:51:33.092672Z"
    }
   },
   "cell_type": "code",
   "source": "torch.linalg.eig((q_sim_cov_t + q_sim_cov_t.T)/2)",
   "outputs": [
    {
     "data": {
      "text/plain": [
       "torch.return_types.linalg_eig(\n",
       "eigenvalues=tensor([ 0.0000e+00+0.j,  1.5385e-03+0.j, -1.4138e-11+0.j]),\n",
       "eigenvectors=tensor([[-0.9991+0.j, -0.0423+0.j, -0.0084+0.j],\n",
       "        [-0.0415+0.j,  0.9812+0.j,  0.1881+0.j],\n",
       "        [ 0.0080+0.j, -0.1882+0.j,  0.9821+0.j]]))"
      ]
     },
     "execution_count": 251,
     "metadata": {},
     "output_type": "execute_result"
    }
   ],
   "execution_count": 251
  },
  {
   "metadata": {
    "ExecuteTime": {
     "end_time": "2025-07-14T12:51:33.256773Z",
     "start_time": "2025-07-14T12:51:33.251689Z"
    }
   },
   "cell_type": "code",
   "source": "q_mf_cov_t[-1]",
   "outputs": [
    {
     "data": {
      "text/plain": [
       "tensor([[0.0321, 0.0025, 0.0113],\n",
       "        [0.0025, 0.0283, 0.0098],\n",
       "        [0.0113, 0.0098, 0.0257]])"
      ]
     },
     "execution_count": 252,
     "metadata": {},
     "output_type": "execute_result"
    }
   ],
   "execution_count": 252
  },
  {
   "metadata": {
    "ExecuteTime": {
     "end_time": "2025-07-14T12:51:34.465724Z",
     "start_time": "2025-07-14T12:51:34.459378Z"
    }
   },
   "cell_type": "code",
   "source": [
    "W_kq = W_k @ W_q.T\n",
    "torch.linalg.eig(W_kq)"
   ],
   "outputs": [
    {
     "data": {
      "text/plain": [
       "torch.return_types.linalg_eig(\n",
       "eigenvalues=tensor([ 2.8394+0.j,  0.0117+0.j, -0.4274+0.j]),\n",
       "eigenvectors=tensor([[ 0.5936+0.j,  0.8524+0.j,  0.7454+0.j],\n",
       "        [ 0.2414+0.j,  0.0971+0.j, -0.6445+0.j],\n",
       "        [ 0.7677+0.j, -0.5137+0.j,  0.1701+0.j]]))"
      ]
     },
     "execution_count": 253,
     "metadata": {},
     "output_type": "execute_result"
    }
   ],
   "execution_count": 253
  }
 ]
}
